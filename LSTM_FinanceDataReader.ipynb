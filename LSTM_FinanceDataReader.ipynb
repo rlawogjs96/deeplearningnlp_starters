{
  "nbformat": 4,
  "nbformat_minor": 0,
  "metadata": {
    "colab": {
      "provenance": [],
      "collapsed_sections": [],
      "authorship_tag": "ABX9TyN+IQhZqW8YHmdyKF3OLup+",
      "include_colab_link": true
    },
    "kernelspec": {
      "name": "python3",
      "display_name": "Python 3"
    },
    "language_info": {
      "name": "python"
    },
    "accelerator": "GPU",
    "gpuClass": "standard"
  },
  "cells": [
    {
      "cell_type": "markdown",
      "metadata": {
        "id": "view-in-github",
        "colab_type": "text"
      },
      "source": [
        "<a href=\"https://colab.research.google.com/github/rlawogjs96/deeplearningnlp_starters/blob/main/LSTM_FinanceDataReader.ipynb\" target=\"_parent\"><img src=\"https://colab.research.google.com/assets/colab-badge.svg\" alt=\"Open In Colab\"/></a>"
      ]
    },
    {
      "cell_type": "markdown",
      "source": [
        "### **삼성전가 주가 예측 모델** \n",
        "FinanceDataReader 파이썬 패키지를 활용해보겠습니다. 이 FinanceDataReader를 활용하면 파일데이터로 주가 데이터를 수집할 필요 없이 가장 최신의 업데이트된 데이터를 API콜을 통해 DataFrame으로 받아올 수 있습니다. "
      ],
      "metadata": {
        "id": "binzCIMk3TQu"
      }
    },
    {
      "cell_type": "markdown",
      "source": [
        "### **LSTM을 활용한 주가 예측 모델**\n",
        "다음과 같은 Pipeline을 통하여 주가 예측을 진행해보겠습니다. \n",
        "* FinanceDataReader를 활용하여 주가 데이터 받아오기 \n",
        "* Tensorflow Dataset 클래스를 활용하여 주가 데이터 구축하기 \n",
        "* LSTM 을 활용한 주가 예측 모델 구축하기 \n",
        "\n"
      ],
      "metadata": {
        "id": "_3aNyOCl3nrZ"
      }
    },
    {
      "cell_type": "markdown",
      "source": [
        "#### **모듈 Import**"
      ],
      "metadata": {
        "id": "U6r3b68K348K"
      }
    },
    {
      "cell_type": "code",
      "execution_count": 24,
      "metadata": {
        "id": "aPi7kD65WSZd"
      },
      "outputs": [],
      "source": [
        "import pandas as pd \n",
        "import numpy as np\n",
        "import matplotlib.pyplot as plt \n",
        "import seaborn as sns \n",
        "import warnings \n",
        "import os \n",
        "\n",
        "%matplotlib inline \n",
        "warnings.filterwarnings('ignore')\n",
        "\n",
        "plt.rcParams['font.family'] = 'Dejavu Sans'"
      ]
    },
    {
      "cell_type": "markdown",
      "source": [
        "[FinanceReader GitHub Repo](https://github.com/financedata-org/FinanceDataReader)는 주가 데이터를 편리하게 가져올 수 있는 패키지입니다."
      ],
      "metadata": {
        "id": "GQSY6UXnC8Dh"
      }
    },
    {
      "cell_type": "code",
      "source": [
        "!pip install finance-datareader"
      ],
      "metadata": {
        "colab": {
          "base_uri": "https://localhost:8080/"
        },
        "id": "1nWaFJWR4FiB",
        "outputId": "15a4f7ef-6b4e-4991-c623-8dff9b02b5ec"
      },
      "execution_count": 3,
      "outputs": [
        {
          "output_type": "stream",
          "name": "stdout",
          "text": [
            "Looking in indexes: https://pypi.org/simple, https://us-python.pkg.dev/colab-wheels/public/simple/\n",
            "Collecting finance-datareader\n",
            "  Downloading finance_datareader-0.9.34-py3-none-any.whl (17 kB)\n",
            "Collecting requests-file\n",
            "  Downloading requests_file-1.5.1-py2.py3-none-any.whl (3.7 kB)\n",
            "Requirement already satisfied: tqdm in /usr/local/lib/python3.7/dist-packages (from finance-datareader) (4.64.0)\n",
            "Requirement already satisfied: lxml in /usr/local/lib/python3.7/dist-packages (from finance-datareader) (4.9.1)\n",
            "Requirement already satisfied: requests>=2.3.0 in /usr/local/lib/python3.7/dist-packages (from finance-datareader) (2.23.0)\n",
            "Requirement already satisfied: pandas>=0.19.2 in /usr/local/lib/python3.7/dist-packages (from finance-datareader) (1.3.5)\n",
            "Requirement already satisfied: numpy>=1.17.3 in /usr/local/lib/python3.7/dist-packages (from pandas>=0.19.2->finance-datareader) (1.21.6)\n",
            "Requirement already satisfied: pytz>=2017.3 in /usr/local/lib/python3.7/dist-packages (from pandas>=0.19.2->finance-datareader) (2022.2.1)\n",
            "Requirement already satisfied: python-dateutil>=2.7.3 in /usr/local/lib/python3.7/dist-packages (from pandas>=0.19.2->finance-datareader) (2.8.2)\n",
            "Requirement already satisfied: six>=1.5 in /usr/local/lib/python3.7/dist-packages (from python-dateutil>=2.7.3->pandas>=0.19.2->finance-datareader) (1.15.0)\n",
            "Requirement already satisfied: idna<3,>=2.5 in /usr/local/lib/python3.7/dist-packages (from requests>=2.3.0->finance-datareader) (2.10)\n",
            "Requirement already satisfied: urllib3!=1.25.0,!=1.25.1,<1.26,>=1.21.1 in /usr/local/lib/python3.7/dist-packages (from requests>=2.3.0->finance-datareader) (1.24.3)\n",
            "Requirement already satisfied: chardet<4,>=3.0.2 in /usr/local/lib/python3.7/dist-packages (from requests>=2.3.0->finance-datareader) (3.0.4)\n",
            "Requirement already satisfied: certifi>=2017.4.17 in /usr/local/lib/python3.7/dist-packages (from requests>=2.3.0->finance-datareader) (2022.6.15)\n",
            "Installing collected packages: requests-file, finance-datareader\n",
            "Successfully installed finance-datareader-0.9.34 requests-file-1.5.1\n"
          ]
        }
      ]
    },
    {
      "cell_type": "code",
      "source": [
        "import FinanceDataReader as fdr"
      ],
      "metadata": {
        "id": "6WJMCzyQDJNs"
      },
      "execution_count": 4,
      "outputs": []
    },
    {
      "cell_type": "code",
      "source": [
        "# 삼성전자(005930) 전체 (1996-11-05 ~ 현재시점)\n",
        "samsung = fdr.DataReader('005930')"
      ],
      "metadata": {
        "id": "DyWVSe_wDoYx"
      },
      "execution_count": 5,
      "outputs": []
    },
    {
      "cell_type": "markdown",
      "source": [
        "#### **컬럼 설명** \n",
        "* `Open`: 시가 \n",
        "* `High`: 고가 \n",
        "* `Low`: 저가 \n",
        "* `Close`: 종가 \n",
        "* `Volume`: 거래량 \n",
        "* `Change`: 대비\n"
      ],
      "metadata": {
        "id": "3pIRBBUJDxlY"
      }
    },
    {
      "cell_type": "code",
      "source": [
        "samsung.tail()"
      ],
      "metadata": {
        "colab": {
          "base_uri": "https://localhost:8080/",
          "height": 238
        },
        "id": "Ef0PWw7xDulZ",
        "outputId": "5df64c45-163f-4949-838d-0cfdb3834123"
      },
      "execution_count": 6,
      "outputs": [
        {
          "output_type": "execute_result",
          "data": {
            "text/plain": [
              "             Open   High    Low  Close    Volume    Change\n",
              "Date                                                      \n",
              "2022-09-01  58700  58900  58300  58400  14905777 -0.021776\n",
              "2022-09-02  58300  58600  57500  57500  15040310 -0.015411\n",
              "2022-09-05  57400  57800  56800  57100  11425977 -0.006957\n",
              "2022-09-06  57200  57600  56900  57100   7503086  0.000000\n",
              "2022-09-07  56700  56700  55900  56000  10207386 -0.019264"
            ],
            "text/html": [
              "\n",
              "  <div id=\"df-60a81ca8-183e-4150-9ea8-098b83f36f0a\">\n",
              "    <div class=\"colab-df-container\">\n",
              "      <div>\n",
              "<style scoped>\n",
              "    .dataframe tbody tr th:only-of-type {\n",
              "        vertical-align: middle;\n",
              "    }\n",
              "\n",
              "    .dataframe tbody tr th {\n",
              "        vertical-align: top;\n",
              "    }\n",
              "\n",
              "    .dataframe thead th {\n",
              "        text-align: right;\n",
              "    }\n",
              "</style>\n",
              "<table border=\"1\" class=\"dataframe\">\n",
              "  <thead>\n",
              "    <tr style=\"text-align: right;\">\n",
              "      <th></th>\n",
              "      <th>Open</th>\n",
              "      <th>High</th>\n",
              "      <th>Low</th>\n",
              "      <th>Close</th>\n",
              "      <th>Volume</th>\n",
              "      <th>Change</th>\n",
              "    </tr>\n",
              "    <tr>\n",
              "      <th>Date</th>\n",
              "      <th></th>\n",
              "      <th></th>\n",
              "      <th></th>\n",
              "      <th></th>\n",
              "      <th></th>\n",
              "      <th></th>\n",
              "    </tr>\n",
              "  </thead>\n",
              "  <tbody>\n",
              "    <tr>\n",
              "      <th>2022-09-01</th>\n",
              "      <td>58700</td>\n",
              "      <td>58900</td>\n",
              "      <td>58300</td>\n",
              "      <td>58400</td>\n",
              "      <td>14905777</td>\n",
              "      <td>-0.021776</td>\n",
              "    </tr>\n",
              "    <tr>\n",
              "      <th>2022-09-02</th>\n",
              "      <td>58300</td>\n",
              "      <td>58600</td>\n",
              "      <td>57500</td>\n",
              "      <td>57500</td>\n",
              "      <td>15040310</td>\n",
              "      <td>-0.015411</td>\n",
              "    </tr>\n",
              "    <tr>\n",
              "      <th>2022-09-05</th>\n",
              "      <td>57400</td>\n",
              "      <td>57800</td>\n",
              "      <td>56800</td>\n",
              "      <td>57100</td>\n",
              "      <td>11425977</td>\n",
              "      <td>-0.006957</td>\n",
              "    </tr>\n",
              "    <tr>\n",
              "      <th>2022-09-06</th>\n",
              "      <td>57200</td>\n",
              "      <td>57600</td>\n",
              "      <td>56900</td>\n",
              "      <td>57100</td>\n",
              "      <td>7503086</td>\n",
              "      <td>0.000000</td>\n",
              "    </tr>\n",
              "    <tr>\n",
              "      <th>2022-09-07</th>\n",
              "      <td>56700</td>\n",
              "      <td>56700</td>\n",
              "      <td>55900</td>\n",
              "      <td>56000</td>\n",
              "      <td>10207386</td>\n",
              "      <td>-0.019264</td>\n",
              "    </tr>\n",
              "  </tbody>\n",
              "</table>\n",
              "</div>\n",
              "      <button class=\"colab-df-convert\" onclick=\"convertToInteractive('df-60a81ca8-183e-4150-9ea8-098b83f36f0a')\"\n",
              "              title=\"Convert this dataframe to an interactive table.\"\n",
              "              style=\"display:none;\">\n",
              "        \n",
              "  <svg xmlns=\"http://www.w3.org/2000/svg\" height=\"24px\"viewBox=\"0 0 24 24\"\n",
              "       width=\"24px\">\n",
              "    <path d=\"M0 0h24v24H0V0z\" fill=\"none\"/>\n",
              "    <path d=\"M18.56 5.44l.94 2.06.94-2.06 2.06-.94-2.06-.94-.94-2.06-.94 2.06-2.06.94zm-11 1L8.5 8.5l.94-2.06 2.06-.94-2.06-.94L8.5 2.5l-.94 2.06-2.06.94zm10 10l.94 2.06.94-2.06 2.06-.94-2.06-.94-.94-2.06-.94 2.06-2.06.94z\"/><path d=\"M17.41 7.96l-1.37-1.37c-.4-.4-.92-.59-1.43-.59-.52 0-1.04.2-1.43.59L10.3 9.45l-7.72 7.72c-.78.78-.78 2.05 0 2.83L4 21.41c.39.39.9.59 1.41.59.51 0 1.02-.2 1.41-.59l7.78-7.78 2.81-2.81c.8-.78.8-2.07 0-2.86zM5.41 20L4 18.59l7.72-7.72 1.47 1.35L5.41 20z\"/>\n",
              "  </svg>\n",
              "      </button>\n",
              "      \n",
              "  <style>\n",
              "    .colab-df-container {\n",
              "      display:flex;\n",
              "      flex-wrap:wrap;\n",
              "      gap: 12px;\n",
              "    }\n",
              "\n",
              "    .colab-df-convert {\n",
              "      background-color: #E8F0FE;\n",
              "      border: none;\n",
              "      border-radius: 50%;\n",
              "      cursor: pointer;\n",
              "      display: none;\n",
              "      fill: #1967D2;\n",
              "      height: 32px;\n",
              "      padding: 0 0 0 0;\n",
              "      width: 32px;\n",
              "    }\n",
              "\n",
              "    .colab-df-convert:hover {\n",
              "      background-color: #E2EBFA;\n",
              "      box-shadow: 0px 1px 2px rgba(60, 64, 67, 0.3), 0px 1px 3px 1px rgba(60, 64, 67, 0.15);\n",
              "      fill: #174EA6;\n",
              "    }\n",
              "\n",
              "    [theme=dark] .colab-df-convert {\n",
              "      background-color: #3B4455;\n",
              "      fill: #D2E3FC;\n",
              "    }\n",
              "\n",
              "    [theme=dark] .colab-df-convert:hover {\n",
              "      background-color: #434B5C;\n",
              "      box-shadow: 0px 1px 3px 1px rgba(0, 0, 0, 0.15);\n",
              "      filter: drop-shadow(0px 1px 2px rgba(0, 0, 0, 0.3));\n",
              "      fill: #FFFFFF;\n",
              "    }\n",
              "  </style>\n",
              "\n",
              "      <script>\n",
              "        const buttonEl =\n",
              "          document.querySelector('#df-60a81ca8-183e-4150-9ea8-098b83f36f0a button.colab-df-convert');\n",
              "        buttonEl.style.display =\n",
              "          google.colab.kernel.accessAllowed ? 'block' : 'none';\n",
              "\n",
              "        async function convertToInteractive(key) {\n",
              "          const element = document.querySelector('#df-60a81ca8-183e-4150-9ea8-098b83f36f0a');\n",
              "          const dataTable =\n",
              "            await google.colab.kernel.invokeFunction('convertToInteractive',\n",
              "                                                     [key], {});\n",
              "          if (!dataTable) return;\n",
              "\n",
              "          const docLinkHtml = 'Like what you see? Visit the ' +\n",
              "            '<a target=\"_blank\" href=https://colab.research.google.com/notebooks/data_table.ipynb>data table notebook</a>'\n",
              "            + ' to learn more about interactive tables.';\n",
              "          element.innerHTML = '';\n",
              "          dataTable['output_type'] = 'display_data';\n",
              "          await google.colab.output.renderOutput(dataTable, element);\n",
              "          const docLink = document.createElement('div');\n",
              "          docLink.innerHTML = docLinkHtml;\n",
              "          element.appendChild(docLink);\n",
              "        }\n",
              "      </script>\n",
              "    </div>\n",
              "  </div>\n",
              "  "
            ]
          },
          "metadata": {},
          "execution_count": 6
        }
      ]
    },
    {
      "cell_type": "code",
      "source": [
        "# Apple(APPL), 애플 \n",
        "apple = fdr.DataReader('AAPL')"
      ],
      "metadata": {
        "id": "gfvVnFvREEG0"
      },
      "execution_count": 7,
      "outputs": []
    },
    {
      "cell_type": "code",
      "source": [
        "apple.tail()"
      ],
      "metadata": {
        "colab": {
          "base_uri": "https://localhost:8080/",
          "height": 238
        },
        "id": "qnM2881dELsT",
        "outputId": "8b0b4930-4df4-4f62-f13d-6e581ddf73d7"
      },
      "execution_count": 8,
      "outputs": [
        {
          "output_type": "execute_result",
          "data": {
            "text/plain": [
              "             Close    Open    High     Low      Volume  Change\n",
              "Date                                                          \n",
              "2022-08-30  158.91  162.13  162.56  157.72  74790000.0 -0.0153\n",
              "2022-08-31  157.22  160.12  160.56  157.19  85290000.0 -0.0106\n",
              "2022-09-01  157.96  156.54  158.36  154.70  73540000.0  0.0047\n",
              "2022-09-02  155.81  159.90  160.36  154.97  76310000.0 -0.0136\n",
              "2022-09-06  154.53  156.42  157.07  153.73  73090000.0 -0.0082"
            ],
            "text/html": [
              "\n",
              "  <div id=\"df-22042c2c-fae9-44be-ba79-68b3ab28a5ab\">\n",
              "    <div class=\"colab-df-container\">\n",
              "      <div>\n",
              "<style scoped>\n",
              "    .dataframe tbody tr th:only-of-type {\n",
              "        vertical-align: middle;\n",
              "    }\n",
              "\n",
              "    .dataframe tbody tr th {\n",
              "        vertical-align: top;\n",
              "    }\n",
              "\n",
              "    .dataframe thead th {\n",
              "        text-align: right;\n",
              "    }\n",
              "</style>\n",
              "<table border=\"1\" class=\"dataframe\">\n",
              "  <thead>\n",
              "    <tr style=\"text-align: right;\">\n",
              "      <th></th>\n",
              "      <th>Close</th>\n",
              "      <th>Open</th>\n",
              "      <th>High</th>\n",
              "      <th>Low</th>\n",
              "      <th>Volume</th>\n",
              "      <th>Change</th>\n",
              "    </tr>\n",
              "    <tr>\n",
              "      <th>Date</th>\n",
              "      <th></th>\n",
              "      <th></th>\n",
              "      <th></th>\n",
              "      <th></th>\n",
              "      <th></th>\n",
              "      <th></th>\n",
              "    </tr>\n",
              "  </thead>\n",
              "  <tbody>\n",
              "    <tr>\n",
              "      <th>2022-08-30</th>\n",
              "      <td>158.91</td>\n",
              "      <td>162.13</td>\n",
              "      <td>162.56</td>\n",
              "      <td>157.72</td>\n",
              "      <td>74790000.0</td>\n",
              "      <td>-0.0153</td>\n",
              "    </tr>\n",
              "    <tr>\n",
              "      <th>2022-08-31</th>\n",
              "      <td>157.22</td>\n",
              "      <td>160.12</td>\n",
              "      <td>160.56</td>\n",
              "      <td>157.19</td>\n",
              "      <td>85290000.0</td>\n",
              "      <td>-0.0106</td>\n",
              "    </tr>\n",
              "    <tr>\n",
              "      <th>2022-09-01</th>\n",
              "      <td>157.96</td>\n",
              "      <td>156.54</td>\n",
              "      <td>158.36</td>\n",
              "      <td>154.70</td>\n",
              "      <td>73540000.0</td>\n",
              "      <td>0.0047</td>\n",
              "    </tr>\n",
              "    <tr>\n",
              "      <th>2022-09-02</th>\n",
              "      <td>155.81</td>\n",
              "      <td>159.90</td>\n",
              "      <td>160.36</td>\n",
              "      <td>154.97</td>\n",
              "      <td>76310000.0</td>\n",
              "      <td>-0.0136</td>\n",
              "    </tr>\n",
              "    <tr>\n",
              "      <th>2022-09-06</th>\n",
              "      <td>154.53</td>\n",
              "      <td>156.42</td>\n",
              "      <td>157.07</td>\n",
              "      <td>153.73</td>\n",
              "      <td>73090000.0</td>\n",
              "      <td>-0.0082</td>\n",
              "    </tr>\n",
              "  </tbody>\n",
              "</table>\n",
              "</div>\n",
              "      <button class=\"colab-df-convert\" onclick=\"convertToInteractive('df-22042c2c-fae9-44be-ba79-68b3ab28a5ab')\"\n",
              "              title=\"Convert this dataframe to an interactive table.\"\n",
              "              style=\"display:none;\">\n",
              "        \n",
              "  <svg xmlns=\"http://www.w3.org/2000/svg\" height=\"24px\"viewBox=\"0 0 24 24\"\n",
              "       width=\"24px\">\n",
              "    <path d=\"M0 0h24v24H0V0z\" fill=\"none\"/>\n",
              "    <path d=\"M18.56 5.44l.94 2.06.94-2.06 2.06-.94-2.06-.94-.94-2.06-.94 2.06-2.06.94zm-11 1L8.5 8.5l.94-2.06 2.06-.94-2.06-.94L8.5 2.5l-.94 2.06-2.06.94zm10 10l.94 2.06.94-2.06 2.06-.94-2.06-.94-.94-2.06-.94 2.06-2.06.94z\"/><path d=\"M17.41 7.96l-1.37-1.37c-.4-.4-.92-.59-1.43-.59-.52 0-1.04.2-1.43.59L10.3 9.45l-7.72 7.72c-.78.78-.78 2.05 0 2.83L4 21.41c.39.39.9.59 1.41.59.51 0 1.02-.2 1.41-.59l7.78-7.78 2.81-2.81c.8-.78.8-2.07 0-2.86zM5.41 20L4 18.59l7.72-7.72 1.47 1.35L5.41 20z\"/>\n",
              "  </svg>\n",
              "      </button>\n",
              "      \n",
              "  <style>\n",
              "    .colab-df-container {\n",
              "      display:flex;\n",
              "      flex-wrap:wrap;\n",
              "      gap: 12px;\n",
              "    }\n",
              "\n",
              "    .colab-df-convert {\n",
              "      background-color: #E8F0FE;\n",
              "      border: none;\n",
              "      border-radius: 50%;\n",
              "      cursor: pointer;\n",
              "      display: none;\n",
              "      fill: #1967D2;\n",
              "      height: 32px;\n",
              "      padding: 0 0 0 0;\n",
              "      width: 32px;\n",
              "    }\n",
              "\n",
              "    .colab-df-convert:hover {\n",
              "      background-color: #E2EBFA;\n",
              "      box-shadow: 0px 1px 2px rgba(60, 64, 67, 0.3), 0px 1px 3px 1px rgba(60, 64, 67, 0.15);\n",
              "      fill: #174EA6;\n",
              "    }\n",
              "\n",
              "    [theme=dark] .colab-df-convert {\n",
              "      background-color: #3B4455;\n",
              "      fill: #D2E3FC;\n",
              "    }\n",
              "\n",
              "    [theme=dark] .colab-df-convert:hover {\n",
              "      background-color: #434B5C;\n",
              "      box-shadow: 0px 1px 3px 1px rgba(0, 0, 0, 0.15);\n",
              "      filter: drop-shadow(0px 1px 2px rgba(0, 0, 0, 0.3));\n",
              "      fill: #FFFFFF;\n",
              "    }\n",
              "  </style>\n",
              "\n",
              "      <script>\n",
              "        const buttonEl =\n",
              "          document.querySelector('#df-22042c2c-fae9-44be-ba79-68b3ab28a5ab button.colab-df-convert');\n",
              "        buttonEl.style.display =\n",
              "          google.colab.kernel.accessAllowed ? 'block' : 'none';\n",
              "\n",
              "        async function convertToInteractive(key) {\n",
              "          const element = document.querySelector('#df-22042c2c-fae9-44be-ba79-68b3ab28a5ab');\n",
              "          const dataTable =\n",
              "            await google.colab.kernel.invokeFunction('convertToInteractive',\n",
              "                                                     [key], {});\n",
              "          if (!dataTable) return;\n",
              "\n",
              "          const docLinkHtml = 'Like what you see? Visit the ' +\n",
              "            '<a target=\"_blank\" href=https://colab.research.google.com/notebooks/data_table.ipynb>data table notebook</a>'\n",
              "            + ' to learn more about interactive tables.';\n",
              "          element.innerHTML = '';\n",
              "          dataTable['output_type'] = 'display_data';\n",
              "          await google.colab.output.renderOutput(dataTable, element);\n",
              "          const docLink = document.createElement('div');\n",
              "          docLink.innerHTML = docLinkHtml;\n",
              "          element.appendChild(docLink);\n",
              "        }\n",
              "      </script>\n",
              "    </div>\n",
              "  </div>\n",
              "  "
            ]
          },
          "metadata": {},
          "execution_count": 8
        }
      ]
    },
    {
      "cell_type": "code",
      "source": [
        "# 2017년 시점 이후의 주식 데이터 불러오기 \n",
        "apple = fdr.DataReader('AAPL', '2017')\n",
        "apple.head()"
      ],
      "metadata": {
        "colab": {
          "base_uri": "https://localhost:8080/",
          "height": 238
        },
        "id": "Wo_uEBP7EMVG",
        "outputId": "007d9291-177a-45d5-9772-53be1d86ab95"
      },
      "execution_count": 10,
      "outputs": [
        {
          "output_type": "execute_result",
          "data": {
            "text/plain": [
              "            Close   Open   High    Low       Volume  Change\n",
              "Date                                                       \n",
              "2017-01-03  29.04  28.95  29.08  28.69  115130000.0  0.0031\n",
              "2017-01-04  29.00  28.96  29.13  28.94   84470000.0 -0.0014\n",
              "2017-01-05  29.15  28.98  29.22  28.95   88770000.0  0.0052\n",
              "2017-01-06  29.48  29.20  29.54  29.12  127010000.0  0.0113\n",
              "2017-01-09  29.75  29.49  29.86  29.48  134250000.0  0.0092"
            ],
            "text/html": [
              "\n",
              "  <div id=\"df-db5af035-5996-4e94-8089-df1ae0e8b02e\">\n",
              "    <div class=\"colab-df-container\">\n",
              "      <div>\n",
              "<style scoped>\n",
              "    .dataframe tbody tr th:only-of-type {\n",
              "        vertical-align: middle;\n",
              "    }\n",
              "\n",
              "    .dataframe tbody tr th {\n",
              "        vertical-align: top;\n",
              "    }\n",
              "\n",
              "    .dataframe thead th {\n",
              "        text-align: right;\n",
              "    }\n",
              "</style>\n",
              "<table border=\"1\" class=\"dataframe\">\n",
              "  <thead>\n",
              "    <tr style=\"text-align: right;\">\n",
              "      <th></th>\n",
              "      <th>Close</th>\n",
              "      <th>Open</th>\n",
              "      <th>High</th>\n",
              "      <th>Low</th>\n",
              "      <th>Volume</th>\n",
              "      <th>Change</th>\n",
              "    </tr>\n",
              "    <tr>\n",
              "      <th>Date</th>\n",
              "      <th></th>\n",
              "      <th></th>\n",
              "      <th></th>\n",
              "      <th></th>\n",
              "      <th></th>\n",
              "      <th></th>\n",
              "    </tr>\n",
              "  </thead>\n",
              "  <tbody>\n",
              "    <tr>\n",
              "      <th>2017-01-03</th>\n",
              "      <td>29.04</td>\n",
              "      <td>28.95</td>\n",
              "      <td>29.08</td>\n",
              "      <td>28.69</td>\n",
              "      <td>115130000.0</td>\n",
              "      <td>0.0031</td>\n",
              "    </tr>\n",
              "    <tr>\n",
              "      <th>2017-01-04</th>\n",
              "      <td>29.00</td>\n",
              "      <td>28.96</td>\n",
              "      <td>29.13</td>\n",
              "      <td>28.94</td>\n",
              "      <td>84470000.0</td>\n",
              "      <td>-0.0014</td>\n",
              "    </tr>\n",
              "    <tr>\n",
              "      <th>2017-01-05</th>\n",
              "      <td>29.15</td>\n",
              "      <td>28.98</td>\n",
              "      <td>29.22</td>\n",
              "      <td>28.95</td>\n",
              "      <td>88770000.0</td>\n",
              "      <td>0.0052</td>\n",
              "    </tr>\n",
              "    <tr>\n",
              "      <th>2017-01-06</th>\n",
              "      <td>29.48</td>\n",
              "      <td>29.20</td>\n",
              "      <td>29.54</td>\n",
              "      <td>29.12</td>\n",
              "      <td>127010000.0</td>\n",
              "      <td>0.0113</td>\n",
              "    </tr>\n",
              "    <tr>\n",
              "      <th>2017-01-09</th>\n",
              "      <td>29.75</td>\n",
              "      <td>29.49</td>\n",
              "      <td>29.86</td>\n",
              "      <td>29.48</td>\n",
              "      <td>134250000.0</td>\n",
              "      <td>0.0092</td>\n",
              "    </tr>\n",
              "  </tbody>\n",
              "</table>\n",
              "</div>\n",
              "      <button class=\"colab-df-convert\" onclick=\"convertToInteractive('df-db5af035-5996-4e94-8089-df1ae0e8b02e')\"\n",
              "              title=\"Convert this dataframe to an interactive table.\"\n",
              "              style=\"display:none;\">\n",
              "        \n",
              "  <svg xmlns=\"http://www.w3.org/2000/svg\" height=\"24px\"viewBox=\"0 0 24 24\"\n",
              "       width=\"24px\">\n",
              "    <path d=\"M0 0h24v24H0V0z\" fill=\"none\"/>\n",
              "    <path d=\"M18.56 5.44l.94 2.06.94-2.06 2.06-.94-2.06-.94-.94-2.06-.94 2.06-2.06.94zm-11 1L8.5 8.5l.94-2.06 2.06-.94-2.06-.94L8.5 2.5l-.94 2.06-2.06.94zm10 10l.94 2.06.94-2.06 2.06-.94-2.06-.94-.94-2.06-.94 2.06-2.06.94z\"/><path d=\"M17.41 7.96l-1.37-1.37c-.4-.4-.92-.59-1.43-.59-.52 0-1.04.2-1.43.59L10.3 9.45l-7.72 7.72c-.78.78-.78 2.05 0 2.83L4 21.41c.39.39.9.59 1.41.59.51 0 1.02-.2 1.41-.59l7.78-7.78 2.81-2.81c.8-.78.8-2.07 0-2.86zM5.41 20L4 18.59l7.72-7.72 1.47 1.35L5.41 20z\"/>\n",
              "  </svg>\n",
              "      </button>\n",
              "      \n",
              "  <style>\n",
              "    .colab-df-container {\n",
              "      display:flex;\n",
              "      flex-wrap:wrap;\n",
              "      gap: 12px;\n",
              "    }\n",
              "\n",
              "    .colab-df-convert {\n",
              "      background-color: #E8F0FE;\n",
              "      border: none;\n",
              "      border-radius: 50%;\n",
              "      cursor: pointer;\n",
              "      display: none;\n",
              "      fill: #1967D2;\n",
              "      height: 32px;\n",
              "      padding: 0 0 0 0;\n",
              "      width: 32px;\n",
              "    }\n",
              "\n",
              "    .colab-df-convert:hover {\n",
              "      background-color: #E2EBFA;\n",
              "      box-shadow: 0px 1px 2px rgba(60, 64, 67, 0.3), 0px 1px 3px 1px rgba(60, 64, 67, 0.15);\n",
              "      fill: #174EA6;\n",
              "    }\n",
              "\n",
              "    [theme=dark] .colab-df-convert {\n",
              "      background-color: #3B4455;\n",
              "      fill: #D2E3FC;\n",
              "    }\n",
              "\n",
              "    [theme=dark] .colab-df-convert:hover {\n",
              "      background-color: #434B5C;\n",
              "      box-shadow: 0px 1px 3px 1px rgba(0, 0, 0, 0.15);\n",
              "      filter: drop-shadow(0px 1px 2px rgba(0, 0, 0, 0.3));\n",
              "      fill: #FFFFFF;\n",
              "    }\n",
              "  </style>\n",
              "\n",
              "      <script>\n",
              "        const buttonEl =\n",
              "          document.querySelector('#df-db5af035-5996-4e94-8089-df1ae0e8b02e button.colab-df-convert');\n",
              "        buttonEl.style.display =\n",
              "          google.colab.kernel.accessAllowed ? 'block' : 'none';\n",
              "\n",
              "        async function convertToInteractive(key) {\n",
              "          const element = document.querySelector('#df-db5af035-5996-4e94-8089-df1ae0e8b02e');\n",
              "          const dataTable =\n",
              "            await google.colab.kernel.invokeFunction('convertToInteractive',\n",
              "                                                     [key], {});\n",
              "          if (!dataTable) return;\n",
              "\n",
              "          const docLinkHtml = 'Like what you see? Visit the ' +\n",
              "            '<a target=\"_blank\" href=https://colab.research.google.com/notebooks/data_table.ipynb>data table notebook</a>'\n",
              "            + ' to learn more about interactive tables.';\n",
              "          element.innerHTML = '';\n",
              "          dataTable['output_type'] = 'display_data';\n",
              "          await google.colab.output.renderOutput(dataTable, element);\n",
              "          const docLink = document.createElement('div');\n",
              "          docLink.innerHTML = docLinkHtml;\n",
              "          element.appendChild(docLink);\n",
              "        }\n",
              "      </script>\n",
              "    </div>\n",
              "  </div>\n",
              "  "
            ]
          },
          "metadata": {},
          "execution_count": 10
        }
      ]
    },
    {
      "cell_type": "markdown",
      "source": [
        "**시작** 과 **끝** 날짜를 지정하여 범위 데이터를 가져올 수 있습니다."
      ],
      "metadata": {
        "id": "NgADH25sEaVm"
      }
    },
    {
      "cell_type": "code",
      "source": [
        "# Ford(F), 1980-01-01 ~ 2019-12-30 (40년간의 데이터) \n",
        "ford = fdr.DataReader('F', '1980-01-01', '2019-12-30')"
      ],
      "metadata": {
        "id": "BuGTgPqSERDM"
      },
      "execution_count": 11,
      "outputs": []
    },
    {
      "cell_type": "code",
      "source": [
        "ford.head()"
      ],
      "metadata": {
        "colab": {
          "base_uri": "https://localhost:8080/",
          "height": 238
        },
        "id": "8LLo33aqEoaM",
        "outputId": "a11e8a1d-9720-49a4-9755-1fb0b61d96c5"
      },
      "execution_count": 12,
      "outputs": [
        {
          "output_type": "execute_result",
          "data": {
            "text/plain": [
              "            Close  Open  High   Low     Volume  Change\n",
              "Date                                                  \n",
              "1980-03-18   1.83  1.83  1.85  1.82  3770000.0 -0.0108\n",
              "1980-03-19   1.85  1.85  1.86  1.83  1560000.0  0.0109\n",
              "1980-03-20   1.86  1.86  1.88  1.85  1450000.0  0.0054\n",
              "1980-03-21   1.78  1.78  1.85  1.76  5020000.0 -0.0430\n",
              "1980-03-24   1.71  1.71  1.75  1.66  3330000.0 -0.0393"
            ],
            "text/html": [
              "\n",
              "  <div id=\"df-ee007d87-f08f-4e55-97fc-6a8ceef243bf\">\n",
              "    <div class=\"colab-df-container\">\n",
              "      <div>\n",
              "<style scoped>\n",
              "    .dataframe tbody tr th:only-of-type {\n",
              "        vertical-align: middle;\n",
              "    }\n",
              "\n",
              "    .dataframe tbody tr th {\n",
              "        vertical-align: top;\n",
              "    }\n",
              "\n",
              "    .dataframe thead th {\n",
              "        text-align: right;\n",
              "    }\n",
              "</style>\n",
              "<table border=\"1\" class=\"dataframe\">\n",
              "  <thead>\n",
              "    <tr style=\"text-align: right;\">\n",
              "      <th></th>\n",
              "      <th>Close</th>\n",
              "      <th>Open</th>\n",
              "      <th>High</th>\n",
              "      <th>Low</th>\n",
              "      <th>Volume</th>\n",
              "      <th>Change</th>\n",
              "    </tr>\n",
              "    <tr>\n",
              "      <th>Date</th>\n",
              "      <th></th>\n",
              "      <th></th>\n",
              "      <th></th>\n",
              "      <th></th>\n",
              "      <th></th>\n",
              "      <th></th>\n",
              "    </tr>\n",
              "  </thead>\n",
              "  <tbody>\n",
              "    <tr>\n",
              "      <th>1980-03-18</th>\n",
              "      <td>1.83</td>\n",
              "      <td>1.83</td>\n",
              "      <td>1.85</td>\n",
              "      <td>1.82</td>\n",
              "      <td>3770000.0</td>\n",
              "      <td>-0.0108</td>\n",
              "    </tr>\n",
              "    <tr>\n",
              "      <th>1980-03-19</th>\n",
              "      <td>1.85</td>\n",
              "      <td>1.85</td>\n",
              "      <td>1.86</td>\n",
              "      <td>1.83</td>\n",
              "      <td>1560000.0</td>\n",
              "      <td>0.0109</td>\n",
              "    </tr>\n",
              "    <tr>\n",
              "      <th>1980-03-20</th>\n",
              "      <td>1.86</td>\n",
              "      <td>1.86</td>\n",
              "      <td>1.88</td>\n",
              "      <td>1.85</td>\n",
              "      <td>1450000.0</td>\n",
              "      <td>0.0054</td>\n",
              "    </tr>\n",
              "    <tr>\n",
              "      <th>1980-03-21</th>\n",
              "      <td>1.78</td>\n",
              "      <td>1.78</td>\n",
              "      <td>1.85</td>\n",
              "      <td>1.76</td>\n",
              "      <td>5020000.0</td>\n",
              "      <td>-0.0430</td>\n",
              "    </tr>\n",
              "    <tr>\n",
              "      <th>1980-03-24</th>\n",
              "      <td>1.71</td>\n",
              "      <td>1.71</td>\n",
              "      <td>1.75</td>\n",
              "      <td>1.66</td>\n",
              "      <td>3330000.0</td>\n",
              "      <td>-0.0393</td>\n",
              "    </tr>\n",
              "  </tbody>\n",
              "</table>\n",
              "</div>\n",
              "      <button class=\"colab-df-convert\" onclick=\"convertToInteractive('df-ee007d87-f08f-4e55-97fc-6a8ceef243bf')\"\n",
              "              title=\"Convert this dataframe to an interactive table.\"\n",
              "              style=\"display:none;\">\n",
              "        \n",
              "  <svg xmlns=\"http://www.w3.org/2000/svg\" height=\"24px\"viewBox=\"0 0 24 24\"\n",
              "       width=\"24px\">\n",
              "    <path d=\"M0 0h24v24H0V0z\" fill=\"none\"/>\n",
              "    <path d=\"M18.56 5.44l.94 2.06.94-2.06 2.06-.94-2.06-.94-.94-2.06-.94 2.06-2.06.94zm-11 1L8.5 8.5l.94-2.06 2.06-.94-2.06-.94L8.5 2.5l-.94 2.06-2.06.94zm10 10l.94 2.06.94-2.06 2.06-.94-2.06-.94-.94-2.06-.94 2.06-2.06.94z\"/><path d=\"M17.41 7.96l-1.37-1.37c-.4-.4-.92-.59-1.43-.59-.52 0-1.04.2-1.43.59L10.3 9.45l-7.72 7.72c-.78.78-.78 2.05 0 2.83L4 21.41c.39.39.9.59 1.41.59.51 0 1.02-.2 1.41-.59l7.78-7.78 2.81-2.81c.8-.78.8-2.07 0-2.86zM5.41 20L4 18.59l7.72-7.72 1.47 1.35L5.41 20z\"/>\n",
              "  </svg>\n",
              "      </button>\n",
              "      \n",
              "  <style>\n",
              "    .colab-df-container {\n",
              "      display:flex;\n",
              "      flex-wrap:wrap;\n",
              "      gap: 12px;\n",
              "    }\n",
              "\n",
              "    .colab-df-convert {\n",
              "      background-color: #E8F0FE;\n",
              "      border: none;\n",
              "      border-radius: 50%;\n",
              "      cursor: pointer;\n",
              "      display: none;\n",
              "      fill: #1967D2;\n",
              "      height: 32px;\n",
              "      padding: 0 0 0 0;\n",
              "      width: 32px;\n",
              "    }\n",
              "\n",
              "    .colab-df-convert:hover {\n",
              "      background-color: #E2EBFA;\n",
              "      box-shadow: 0px 1px 2px rgba(60, 64, 67, 0.3), 0px 1px 3px 1px rgba(60, 64, 67, 0.15);\n",
              "      fill: #174EA6;\n",
              "    }\n",
              "\n",
              "    [theme=dark] .colab-df-convert {\n",
              "      background-color: #3B4455;\n",
              "      fill: #D2E3FC;\n",
              "    }\n",
              "\n",
              "    [theme=dark] .colab-df-convert:hover {\n",
              "      background-color: #434B5C;\n",
              "      box-shadow: 0px 1px 3px 1px rgba(0, 0, 0, 0.15);\n",
              "      filter: drop-shadow(0px 1px 2px rgba(0, 0, 0, 0.3));\n",
              "      fill: #FFFFFF;\n",
              "    }\n",
              "  </style>\n",
              "\n",
              "      <script>\n",
              "        const buttonEl =\n",
              "          document.querySelector('#df-ee007d87-f08f-4e55-97fc-6a8ceef243bf button.colab-df-convert');\n",
              "        buttonEl.style.display =\n",
              "          google.colab.kernel.accessAllowed ? 'block' : 'none';\n",
              "\n",
              "        async function convertToInteractive(key) {\n",
              "          const element = document.querySelector('#df-ee007d87-f08f-4e55-97fc-6a8ceef243bf');\n",
              "          const dataTable =\n",
              "            await google.colab.kernel.invokeFunction('convertToInteractive',\n",
              "                                                     [key], {});\n",
              "          if (!dataTable) return;\n",
              "\n",
              "          const docLinkHtml = 'Like what you see? Visit the ' +\n",
              "            '<a target=\"_blank\" href=https://colab.research.google.com/notebooks/data_table.ipynb>data table notebook</a>'\n",
              "            + ' to learn more about interactive tables.';\n",
              "          element.innerHTML = '';\n",
              "          dataTable['output_type'] = 'display_data';\n",
              "          await google.colab.output.renderOutput(dataTable, element);\n",
              "          const docLink = document.createElement('div');\n",
              "          docLink.innerHTML = docLinkHtml;\n",
              "          element.appendChild(docLink);\n",
              "        }\n",
              "      </script>\n",
              "    </div>\n",
              "  </div>\n",
              "  "
            ]
          },
          "metadata": {},
          "execution_count": 12
        }
      ]
    },
    {
      "cell_type": "code",
      "source": [
        "ford.tail()"
      ],
      "metadata": {
        "colab": {
          "base_uri": "https://localhost:8080/",
          "height": 238
        },
        "id": "hdCZnysLEpU2",
        "outputId": "1df7f4aa-7d3a-4b8f-d1f3-fb0a7d77e3b3"
      },
      "execution_count": 13,
      "outputs": [
        {
          "output_type": "execute_result",
          "data": {
            "text/plain": [
              "            Close  Open  High   Low      Volume  Change\n",
              "Date                                                   \n",
              "2019-12-23   9.44  9.50  9.57  9.40  54800000.0 -0.0042\n",
              "2019-12-24   9.47  9.44  9.49  9.43  11880000.0  0.0032\n",
              "2019-12-26   9.45  9.47  9.49  9.43  28980000.0 -0.0021\n",
              "2019-12-27   9.36  9.45  9.46  9.35  28270000.0 -0.0095\n",
              "2019-12-30   9.25  9.34  9.35  9.23  36090000.0 -0.0118"
            ],
            "text/html": [
              "\n",
              "  <div id=\"df-6e9659c5-9b79-44f1-bb72-9c3f9e60cdf4\">\n",
              "    <div class=\"colab-df-container\">\n",
              "      <div>\n",
              "<style scoped>\n",
              "    .dataframe tbody tr th:only-of-type {\n",
              "        vertical-align: middle;\n",
              "    }\n",
              "\n",
              "    .dataframe tbody tr th {\n",
              "        vertical-align: top;\n",
              "    }\n",
              "\n",
              "    .dataframe thead th {\n",
              "        text-align: right;\n",
              "    }\n",
              "</style>\n",
              "<table border=\"1\" class=\"dataframe\">\n",
              "  <thead>\n",
              "    <tr style=\"text-align: right;\">\n",
              "      <th></th>\n",
              "      <th>Close</th>\n",
              "      <th>Open</th>\n",
              "      <th>High</th>\n",
              "      <th>Low</th>\n",
              "      <th>Volume</th>\n",
              "      <th>Change</th>\n",
              "    </tr>\n",
              "    <tr>\n",
              "      <th>Date</th>\n",
              "      <th></th>\n",
              "      <th></th>\n",
              "      <th></th>\n",
              "      <th></th>\n",
              "      <th></th>\n",
              "      <th></th>\n",
              "    </tr>\n",
              "  </thead>\n",
              "  <tbody>\n",
              "    <tr>\n",
              "      <th>2019-12-23</th>\n",
              "      <td>9.44</td>\n",
              "      <td>9.50</td>\n",
              "      <td>9.57</td>\n",
              "      <td>9.40</td>\n",
              "      <td>54800000.0</td>\n",
              "      <td>-0.0042</td>\n",
              "    </tr>\n",
              "    <tr>\n",
              "      <th>2019-12-24</th>\n",
              "      <td>9.47</td>\n",
              "      <td>9.44</td>\n",
              "      <td>9.49</td>\n",
              "      <td>9.43</td>\n",
              "      <td>11880000.0</td>\n",
              "      <td>0.0032</td>\n",
              "    </tr>\n",
              "    <tr>\n",
              "      <th>2019-12-26</th>\n",
              "      <td>9.45</td>\n",
              "      <td>9.47</td>\n",
              "      <td>9.49</td>\n",
              "      <td>9.43</td>\n",
              "      <td>28980000.0</td>\n",
              "      <td>-0.0021</td>\n",
              "    </tr>\n",
              "    <tr>\n",
              "      <th>2019-12-27</th>\n",
              "      <td>9.36</td>\n",
              "      <td>9.45</td>\n",
              "      <td>9.46</td>\n",
              "      <td>9.35</td>\n",
              "      <td>28270000.0</td>\n",
              "      <td>-0.0095</td>\n",
              "    </tr>\n",
              "    <tr>\n",
              "      <th>2019-12-30</th>\n",
              "      <td>9.25</td>\n",
              "      <td>9.34</td>\n",
              "      <td>9.35</td>\n",
              "      <td>9.23</td>\n",
              "      <td>36090000.0</td>\n",
              "      <td>-0.0118</td>\n",
              "    </tr>\n",
              "  </tbody>\n",
              "</table>\n",
              "</div>\n",
              "      <button class=\"colab-df-convert\" onclick=\"convertToInteractive('df-6e9659c5-9b79-44f1-bb72-9c3f9e60cdf4')\"\n",
              "              title=\"Convert this dataframe to an interactive table.\"\n",
              "              style=\"display:none;\">\n",
              "        \n",
              "  <svg xmlns=\"http://www.w3.org/2000/svg\" height=\"24px\"viewBox=\"0 0 24 24\"\n",
              "       width=\"24px\">\n",
              "    <path d=\"M0 0h24v24H0V0z\" fill=\"none\"/>\n",
              "    <path d=\"M18.56 5.44l.94 2.06.94-2.06 2.06-.94-2.06-.94-.94-2.06-.94 2.06-2.06.94zm-11 1L8.5 8.5l.94-2.06 2.06-.94-2.06-.94L8.5 2.5l-.94 2.06-2.06.94zm10 10l.94 2.06.94-2.06 2.06-.94-2.06-.94-.94-2.06-.94 2.06-2.06.94z\"/><path d=\"M17.41 7.96l-1.37-1.37c-.4-.4-.92-.59-1.43-.59-.52 0-1.04.2-1.43.59L10.3 9.45l-7.72 7.72c-.78.78-.78 2.05 0 2.83L4 21.41c.39.39.9.59 1.41.59.51 0 1.02-.2 1.41-.59l7.78-7.78 2.81-2.81c.8-.78.8-2.07 0-2.86zM5.41 20L4 18.59l7.72-7.72 1.47 1.35L5.41 20z\"/>\n",
              "  </svg>\n",
              "      </button>\n",
              "      \n",
              "  <style>\n",
              "    .colab-df-container {\n",
              "      display:flex;\n",
              "      flex-wrap:wrap;\n",
              "      gap: 12px;\n",
              "    }\n",
              "\n",
              "    .colab-df-convert {\n",
              "      background-color: #E8F0FE;\n",
              "      border: none;\n",
              "      border-radius: 50%;\n",
              "      cursor: pointer;\n",
              "      display: none;\n",
              "      fill: #1967D2;\n",
              "      height: 32px;\n",
              "      padding: 0 0 0 0;\n",
              "      width: 32px;\n",
              "    }\n",
              "\n",
              "    .colab-df-convert:hover {\n",
              "      background-color: #E2EBFA;\n",
              "      box-shadow: 0px 1px 2px rgba(60, 64, 67, 0.3), 0px 1px 3px 1px rgba(60, 64, 67, 0.15);\n",
              "      fill: #174EA6;\n",
              "    }\n",
              "\n",
              "    [theme=dark] .colab-df-convert {\n",
              "      background-color: #3B4455;\n",
              "      fill: #D2E3FC;\n",
              "    }\n",
              "\n",
              "    [theme=dark] .colab-df-convert:hover {\n",
              "      background-color: #434B5C;\n",
              "      box-shadow: 0px 1px 3px 1px rgba(0, 0, 0, 0.15);\n",
              "      filter: drop-shadow(0px 1px 2px rgba(0, 0, 0, 0.3));\n",
              "      fill: #FFFFFF;\n",
              "    }\n",
              "  </style>\n",
              "\n",
              "      <script>\n",
              "        const buttonEl =\n",
              "          document.querySelector('#df-6e9659c5-9b79-44f1-bb72-9c3f9e60cdf4 button.colab-df-convert');\n",
              "        buttonEl.style.display =\n",
              "          google.colab.kernel.accessAllowed ? 'block' : 'none';\n",
              "\n",
              "        async function convertToInteractive(key) {\n",
              "          const element = document.querySelector('#df-6e9659c5-9b79-44f1-bb72-9c3f9e60cdf4');\n",
              "          const dataTable =\n",
              "            await google.colab.kernel.invokeFunction('convertToInteractive',\n",
              "                                                     [key], {});\n",
              "          if (!dataTable) return;\n",
              "\n",
              "          const docLinkHtml = 'Like what you see? Visit the ' +\n",
              "            '<a target=\"_blank\" href=https://colab.research.google.com/notebooks/data_table.ipynb>data table notebook</a>'\n",
              "            + ' to learn more about interactive tables.';\n",
              "          element.innerHTML = '';\n",
              "          dataTable['output_type'] = 'display_data';\n",
              "          await google.colab.output.renderOutput(dataTable, element);\n",
              "          const docLink = document.createElement('div');\n",
              "          docLink.innerHTML = docLinkHtml;\n",
              "          element.appendChild(docLink);\n",
              "        }\n",
              "      </script>\n",
              "    </div>\n",
              "  </div>\n",
              "  "
            ]
          },
          "metadata": {},
          "execution_count": 13
        }
      ]
    },
    {
      "cell_type": "markdown",
      "source": [
        "### **주가 데이터 가져오기**"
      ],
      "metadata": {
        "id": "lHMhd_fpEwKk"
      }
    },
    {
      "cell_type": "code",
      "source": [
        "# 삼성전자 주식코드: 005930 \n",
        "STOCK_CODE = '005930'"
      ],
      "metadata": {
        "id": "iJBRSLgvEuu0"
      },
      "execution_count": 14,
      "outputs": []
    },
    {
      "cell_type": "code",
      "source": [
        "stock = fdr.DataReader(STOCK_CODE) "
      ],
      "metadata": {
        "id": "J0mgYt3uFwhL"
      },
      "execution_count": 15,
      "outputs": []
    },
    {
      "cell_type": "code",
      "source": [
        "stock.head()"
      ],
      "metadata": {
        "colab": {
          "base_uri": "https://localhost:8080/",
          "height": 238
        },
        "id": "Z1XZErpDFyHf",
        "outputId": "45a4fd1a-35ab-4ca2-9b4f-299856e4cb5e"
      },
      "execution_count": 16,
      "outputs": [
        {
          "output_type": "execute_result",
          "data": {
            "text/plain": [
              "            Open  High  Low  Close  Volume    Change\n",
              "Date                                                \n",
              "1998-06-26   754   791  754    754  302831       NaN\n",
              "1998-06-27   757   780  756    769  140840  0.019894\n",
              "1998-06-29   781   791  765    765  330510 -0.005202\n",
              "1998-06-30   765   809  755    791  373730  0.033987\n",
              "1998-07-01   804   886  796    886  719666  0.120101"
            ],
            "text/html": [
              "\n",
              "  <div id=\"df-3af9b433-84d5-4751-8ad5-10eadc1b329d\">\n",
              "    <div class=\"colab-df-container\">\n",
              "      <div>\n",
              "<style scoped>\n",
              "    .dataframe tbody tr th:only-of-type {\n",
              "        vertical-align: middle;\n",
              "    }\n",
              "\n",
              "    .dataframe tbody tr th {\n",
              "        vertical-align: top;\n",
              "    }\n",
              "\n",
              "    .dataframe thead th {\n",
              "        text-align: right;\n",
              "    }\n",
              "</style>\n",
              "<table border=\"1\" class=\"dataframe\">\n",
              "  <thead>\n",
              "    <tr style=\"text-align: right;\">\n",
              "      <th></th>\n",
              "      <th>Open</th>\n",
              "      <th>High</th>\n",
              "      <th>Low</th>\n",
              "      <th>Close</th>\n",
              "      <th>Volume</th>\n",
              "      <th>Change</th>\n",
              "    </tr>\n",
              "    <tr>\n",
              "      <th>Date</th>\n",
              "      <th></th>\n",
              "      <th></th>\n",
              "      <th></th>\n",
              "      <th></th>\n",
              "      <th></th>\n",
              "      <th></th>\n",
              "    </tr>\n",
              "  </thead>\n",
              "  <tbody>\n",
              "    <tr>\n",
              "      <th>1998-06-26</th>\n",
              "      <td>754</td>\n",
              "      <td>791</td>\n",
              "      <td>754</td>\n",
              "      <td>754</td>\n",
              "      <td>302831</td>\n",
              "      <td>NaN</td>\n",
              "    </tr>\n",
              "    <tr>\n",
              "      <th>1998-06-27</th>\n",
              "      <td>757</td>\n",
              "      <td>780</td>\n",
              "      <td>756</td>\n",
              "      <td>769</td>\n",
              "      <td>140840</td>\n",
              "      <td>0.019894</td>\n",
              "    </tr>\n",
              "    <tr>\n",
              "      <th>1998-06-29</th>\n",
              "      <td>781</td>\n",
              "      <td>791</td>\n",
              "      <td>765</td>\n",
              "      <td>765</td>\n",
              "      <td>330510</td>\n",
              "      <td>-0.005202</td>\n",
              "    </tr>\n",
              "    <tr>\n",
              "      <th>1998-06-30</th>\n",
              "      <td>765</td>\n",
              "      <td>809</td>\n",
              "      <td>755</td>\n",
              "      <td>791</td>\n",
              "      <td>373730</td>\n",
              "      <td>0.033987</td>\n",
              "    </tr>\n",
              "    <tr>\n",
              "      <th>1998-07-01</th>\n",
              "      <td>804</td>\n",
              "      <td>886</td>\n",
              "      <td>796</td>\n",
              "      <td>886</td>\n",
              "      <td>719666</td>\n",
              "      <td>0.120101</td>\n",
              "    </tr>\n",
              "  </tbody>\n",
              "</table>\n",
              "</div>\n",
              "      <button class=\"colab-df-convert\" onclick=\"convertToInteractive('df-3af9b433-84d5-4751-8ad5-10eadc1b329d')\"\n",
              "              title=\"Convert this dataframe to an interactive table.\"\n",
              "              style=\"display:none;\">\n",
              "        \n",
              "  <svg xmlns=\"http://www.w3.org/2000/svg\" height=\"24px\"viewBox=\"0 0 24 24\"\n",
              "       width=\"24px\">\n",
              "    <path d=\"M0 0h24v24H0V0z\" fill=\"none\"/>\n",
              "    <path d=\"M18.56 5.44l.94 2.06.94-2.06 2.06-.94-2.06-.94-.94-2.06-.94 2.06-2.06.94zm-11 1L8.5 8.5l.94-2.06 2.06-.94-2.06-.94L8.5 2.5l-.94 2.06-2.06.94zm10 10l.94 2.06.94-2.06 2.06-.94-2.06-.94-.94-2.06-.94 2.06-2.06.94z\"/><path d=\"M17.41 7.96l-1.37-1.37c-.4-.4-.92-.59-1.43-.59-.52 0-1.04.2-1.43.59L10.3 9.45l-7.72 7.72c-.78.78-.78 2.05 0 2.83L4 21.41c.39.39.9.59 1.41.59.51 0 1.02-.2 1.41-.59l7.78-7.78 2.81-2.81c.8-.78.8-2.07 0-2.86zM5.41 20L4 18.59l7.72-7.72 1.47 1.35L5.41 20z\"/>\n",
              "  </svg>\n",
              "      </button>\n",
              "      \n",
              "  <style>\n",
              "    .colab-df-container {\n",
              "      display:flex;\n",
              "      flex-wrap:wrap;\n",
              "      gap: 12px;\n",
              "    }\n",
              "\n",
              "    .colab-df-convert {\n",
              "      background-color: #E8F0FE;\n",
              "      border: none;\n",
              "      border-radius: 50%;\n",
              "      cursor: pointer;\n",
              "      display: none;\n",
              "      fill: #1967D2;\n",
              "      height: 32px;\n",
              "      padding: 0 0 0 0;\n",
              "      width: 32px;\n",
              "    }\n",
              "\n",
              "    .colab-df-convert:hover {\n",
              "      background-color: #E2EBFA;\n",
              "      box-shadow: 0px 1px 2px rgba(60, 64, 67, 0.3), 0px 1px 3px 1px rgba(60, 64, 67, 0.15);\n",
              "      fill: #174EA6;\n",
              "    }\n",
              "\n",
              "    [theme=dark] .colab-df-convert {\n",
              "      background-color: #3B4455;\n",
              "      fill: #D2E3FC;\n",
              "    }\n",
              "\n",
              "    [theme=dark] .colab-df-convert:hover {\n",
              "      background-color: #434B5C;\n",
              "      box-shadow: 0px 1px 3px 1px rgba(0, 0, 0, 0.15);\n",
              "      filter: drop-shadow(0px 1px 2px rgba(0, 0, 0, 0.3));\n",
              "      fill: #FFFFFF;\n",
              "    }\n",
              "  </style>\n",
              "\n",
              "      <script>\n",
              "        const buttonEl =\n",
              "          document.querySelector('#df-3af9b433-84d5-4751-8ad5-10eadc1b329d button.colab-df-convert');\n",
              "        buttonEl.style.display =\n",
              "          google.colab.kernel.accessAllowed ? 'block' : 'none';\n",
              "\n",
              "        async function convertToInteractive(key) {\n",
              "          const element = document.querySelector('#df-3af9b433-84d5-4751-8ad5-10eadc1b329d');\n",
              "          const dataTable =\n",
              "            await google.colab.kernel.invokeFunction('convertToInteractive',\n",
              "                                                     [key], {});\n",
              "          if (!dataTable) return;\n",
              "\n",
              "          const docLinkHtml = 'Like what you see? Visit the ' +\n",
              "            '<a target=\"_blank\" href=https://colab.research.google.com/notebooks/data_table.ipynb>data table notebook</a>'\n",
              "            + ' to learn more about interactive tables.';\n",
              "          element.innerHTML = '';\n",
              "          dataTable['output_type'] = 'display_data';\n",
              "          await google.colab.output.renderOutput(dataTable, element);\n",
              "          const docLink = document.createElement('div');\n",
              "          docLink.innerHTML = docLinkHtml;\n",
              "          element.appendChild(docLink);\n",
              "        }\n",
              "      </script>\n",
              "    </div>\n",
              "  </div>\n",
              "  "
            ]
          },
          "metadata": {},
          "execution_count": 16
        }
      ]
    },
    {
      "cell_type": "code",
      "source": [
        "stock.tail()"
      ],
      "metadata": {
        "colab": {
          "base_uri": "https://localhost:8080/",
          "height": 238
        },
        "id": "BPlR5VgCFzF1",
        "outputId": "a44d3fce-25ca-4e0b-dda3-378b6d9ca06e"
      },
      "execution_count": 17,
      "outputs": [
        {
          "output_type": "execute_result",
          "data": {
            "text/plain": [
              "             Open   High    Low  Close    Volume    Change\n",
              "Date                                                      \n",
              "2022-09-01  58700  58900  58300  58400  14905777 -0.021776\n",
              "2022-09-02  58300  58600  57500  57500  15040310 -0.015411\n",
              "2022-09-05  57400  57800  56800  57100  11425977 -0.006957\n",
              "2022-09-06  57200  57600  56900  57100   7503086  0.000000\n",
              "2022-09-07  56700  56700  55900  56100  10286610 -0.017513"
            ],
            "text/html": [
              "\n",
              "  <div id=\"df-a426c603-9962-4456-8cc6-ec99af3bcf65\">\n",
              "    <div class=\"colab-df-container\">\n",
              "      <div>\n",
              "<style scoped>\n",
              "    .dataframe tbody tr th:only-of-type {\n",
              "        vertical-align: middle;\n",
              "    }\n",
              "\n",
              "    .dataframe tbody tr th {\n",
              "        vertical-align: top;\n",
              "    }\n",
              "\n",
              "    .dataframe thead th {\n",
              "        text-align: right;\n",
              "    }\n",
              "</style>\n",
              "<table border=\"1\" class=\"dataframe\">\n",
              "  <thead>\n",
              "    <tr style=\"text-align: right;\">\n",
              "      <th></th>\n",
              "      <th>Open</th>\n",
              "      <th>High</th>\n",
              "      <th>Low</th>\n",
              "      <th>Close</th>\n",
              "      <th>Volume</th>\n",
              "      <th>Change</th>\n",
              "    </tr>\n",
              "    <tr>\n",
              "      <th>Date</th>\n",
              "      <th></th>\n",
              "      <th></th>\n",
              "      <th></th>\n",
              "      <th></th>\n",
              "      <th></th>\n",
              "      <th></th>\n",
              "    </tr>\n",
              "  </thead>\n",
              "  <tbody>\n",
              "    <tr>\n",
              "      <th>2022-09-01</th>\n",
              "      <td>58700</td>\n",
              "      <td>58900</td>\n",
              "      <td>58300</td>\n",
              "      <td>58400</td>\n",
              "      <td>14905777</td>\n",
              "      <td>-0.021776</td>\n",
              "    </tr>\n",
              "    <tr>\n",
              "      <th>2022-09-02</th>\n",
              "      <td>58300</td>\n",
              "      <td>58600</td>\n",
              "      <td>57500</td>\n",
              "      <td>57500</td>\n",
              "      <td>15040310</td>\n",
              "      <td>-0.015411</td>\n",
              "    </tr>\n",
              "    <tr>\n",
              "      <th>2022-09-05</th>\n",
              "      <td>57400</td>\n",
              "      <td>57800</td>\n",
              "      <td>56800</td>\n",
              "      <td>57100</td>\n",
              "      <td>11425977</td>\n",
              "      <td>-0.006957</td>\n",
              "    </tr>\n",
              "    <tr>\n",
              "      <th>2022-09-06</th>\n",
              "      <td>57200</td>\n",
              "      <td>57600</td>\n",
              "      <td>56900</td>\n",
              "      <td>57100</td>\n",
              "      <td>7503086</td>\n",
              "      <td>0.000000</td>\n",
              "    </tr>\n",
              "    <tr>\n",
              "      <th>2022-09-07</th>\n",
              "      <td>56700</td>\n",
              "      <td>56700</td>\n",
              "      <td>55900</td>\n",
              "      <td>56100</td>\n",
              "      <td>10286610</td>\n",
              "      <td>-0.017513</td>\n",
              "    </tr>\n",
              "  </tbody>\n",
              "</table>\n",
              "</div>\n",
              "      <button class=\"colab-df-convert\" onclick=\"convertToInteractive('df-a426c603-9962-4456-8cc6-ec99af3bcf65')\"\n",
              "              title=\"Convert this dataframe to an interactive table.\"\n",
              "              style=\"display:none;\">\n",
              "        \n",
              "  <svg xmlns=\"http://www.w3.org/2000/svg\" height=\"24px\"viewBox=\"0 0 24 24\"\n",
              "       width=\"24px\">\n",
              "    <path d=\"M0 0h24v24H0V0z\" fill=\"none\"/>\n",
              "    <path d=\"M18.56 5.44l.94 2.06.94-2.06 2.06-.94-2.06-.94-.94-2.06-.94 2.06-2.06.94zm-11 1L8.5 8.5l.94-2.06 2.06-.94-2.06-.94L8.5 2.5l-.94 2.06-2.06.94zm10 10l.94 2.06.94-2.06 2.06-.94-2.06-.94-.94-2.06-.94 2.06-2.06.94z\"/><path d=\"M17.41 7.96l-1.37-1.37c-.4-.4-.92-.59-1.43-.59-.52 0-1.04.2-1.43.59L10.3 9.45l-7.72 7.72c-.78.78-.78 2.05 0 2.83L4 21.41c.39.39.9.59 1.41.59.51 0 1.02-.2 1.41-.59l7.78-7.78 2.81-2.81c.8-.78.8-2.07 0-2.86zM5.41 20L4 18.59l7.72-7.72 1.47 1.35L5.41 20z\"/>\n",
              "  </svg>\n",
              "      </button>\n",
              "      \n",
              "  <style>\n",
              "    .colab-df-container {\n",
              "      display:flex;\n",
              "      flex-wrap:wrap;\n",
              "      gap: 12px;\n",
              "    }\n",
              "\n",
              "    .colab-df-convert {\n",
              "      background-color: #E8F0FE;\n",
              "      border: none;\n",
              "      border-radius: 50%;\n",
              "      cursor: pointer;\n",
              "      display: none;\n",
              "      fill: #1967D2;\n",
              "      height: 32px;\n",
              "      padding: 0 0 0 0;\n",
              "      width: 32px;\n",
              "    }\n",
              "\n",
              "    .colab-df-convert:hover {\n",
              "      background-color: #E2EBFA;\n",
              "      box-shadow: 0px 1px 2px rgba(60, 64, 67, 0.3), 0px 1px 3px 1px rgba(60, 64, 67, 0.15);\n",
              "      fill: #174EA6;\n",
              "    }\n",
              "\n",
              "    [theme=dark] .colab-df-convert {\n",
              "      background-color: #3B4455;\n",
              "      fill: #D2E3FC;\n",
              "    }\n",
              "\n",
              "    [theme=dark] .colab-df-convert:hover {\n",
              "      background-color: #434B5C;\n",
              "      box-shadow: 0px 1px 3px 1px rgba(0, 0, 0, 0.15);\n",
              "      filter: drop-shadow(0px 1px 2px rgba(0, 0, 0, 0.3));\n",
              "      fill: #FFFFFF;\n",
              "    }\n",
              "  </style>\n",
              "\n",
              "      <script>\n",
              "        const buttonEl =\n",
              "          document.querySelector('#df-a426c603-9962-4456-8cc6-ec99af3bcf65 button.colab-df-convert');\n",
              "        buttonEl.style.display =\n",
              "          google.colab.kernel.accessAllowed ? 'block' : 'none';\n",
              "\n",
              "        async function convertToInteractive(key) {\n",
              "          const element = document.querySelector('#df-a426c603-9962-4456-8cc6-ec99af3bcf65');\n",
              "          const dataTable =\n",
              "            await google.colab.kernel.invokeFunction('convertToInteractive',\n",
              "                                                     [key], {});\n",
              "          if (!dataTable) return;\n",
              "\n",
              "          const docLinkHtml = 'Like what you see? Visit the ' +\n",
              "            '<a target=\"_blank\" href=https://colab.research.google.com/notebooks/data_table.ipynb>data table notebook</a>'\n",
              "            + ' to learn more about interactive tables.';\n",
              "          element.innerHTML = '';\n",
              "          dataTable['output_type'] = 'display_data';\n",
              "          await google.colab.output.renderOutput(dataTable, element);\n",
              "          const docLink = document.createElement('div');\n",
              "          docLink.innerHTML = docLinkHtml;\n",
              "          element.appendChild(docLink);\n",
              "        }\n",
              "      </script>\n",
              "    </div>\n",
              "  </div>\n",
              "  "
            ]
          },
          "metadata": {},
          "execution_count": 17
        }
      ]
    },
    {
      "cell_type": "code",
      "source": [
        "stock.index"
      ],
      "metadata": {
        "colab": {
          "base_uri": "https://localhost:8080/"
        },
        "id": "Rh7AR5JeF0J8",
        "outputId": "06c7e4de-2cec-49a8-ed00-8497f290d767"
      },
      "execution_count": 18,
      "outputs": [
        {
          "output_type": "execute_result",
          "data": {
            "text/plain": [
              "DatetimeIndex(['1998-06-26', '1998-06-27', '1998-06-29', '1998-06-30',\n",
              "               '1998-07-01', '1998-07-02', '1998-07-03', '1998-07-04',\n",
              "               '1998-07-06', '1998-07-07',\n",
              "               ...\n",
              "               '2022-08-25', '2022-08-26', '2022-08-29', '2022-08-30',\n",
              "               '2022-08-31', '2022-09-01', '2022-09-02', '2022-09-05',\n",
              "               '2022-09-06', '2022-09-07'],\n",
              "              dtype='datetime64[ns]', name='Date', length=6000, freq=None)"
            ]
          },
          "metadata": {},
          "execution_count": 18
        }
      ]
    },
    {
      "cell_type": "markdown",
      "source": [
        "index 가 `DatetimeIndex`로 지정되어있다. `DatetimeIndex`로 정의되어 있다면, 아래와 같이 연도, 월, 일을 쪼갤 수 있고, **월별, 연도별 피벗데이터**를 만들때 유용하게 활용할 수 있다."
      ],
      "metadata": {
        "id": "PYgfb4OtF4Lz"
      }
    },
    {
      "cell_type": "code",
      "source": [
        "stock['Year'] = stock.index.year\n",
        "stock['Month'] = stock.index.month\n",
        "stock['Day'] = stock.index.day "
      ],
      "metadata": {
        "id": "qcudq_wWF1YM"
      },
      "execution_count": 19,
      "outputs": []
    },
    {
      "cell_type": "code",
      "source": [
        "stock.head()"
      ],
      "metadata": {
        "colab": {
          "base_uri": "https://localhost:8080/",
          "height": 238
        },
        "id": "-QRYX_L-HKY5",
        "outputId": "96fce486-4a42-4d10-dbca-eb70c8cfc720"
      },
      "execution_count": 20,
      "outputs": [
        {
          "output_type": "execute_result",
          "data": {
            "text/plain": [
              "            Open  High  Low  Close  Volume    Change  Year  Month  Day\n",
              "Date                                                                  \n",
              "1998-06-26   754   791  754    754  302831       NaN  1998      6   26\n",
              "1998-06-27   757   780  756    769  140840  0.019894  1998      6   27\n",
              "1998-06-29   781   791  765    765  330510 -0.005202  1998      6   29\n",
              "1998-06-30   765   809  755    791  373730  0.033987  1998      6   30\n",
              "1998-07-01   804   886  796    886  719666  0.120101  1998      7    1"
            ],
            "text/html": [
              "\n",
              "  <div id=\"df-bfc0c7bd-73ea-4f27-b399-a06439c3ae1b\">\n",
              "    <div class=\"colab-df-container\">\n",
              "      <div>\n",
              "<style scoped>\n",
              "    .dataframe tbody tr th:only-of-type {\n",
              "        vertical-align: middle;\n",
              "    }\n",
              "\n",
              "    .dataframe tbody tr th {\n",
              "        vertical-align: top;\n",
              "    }\n",
              "\n",
              "    .dataframe thead th {\n",
              "        text-align: right;\n",
              "    }\n",
              "</style>\n",
              "<table border=\"1\" class=\"dataframe\">\n",
              "  <thead>\n",
              "    <tr style=\"text-align: right;\">\n",
              "      <th></th>\n",
              "      <th>Open</th>\n",
              "      <th>High</th>\n",
              "      <th>Low</th>\n",
              "      <th>Close</th>\n",
              "      <th>Volume</th>\n",
              "      <th>Change</th>\n",
              "      <th>Year</th>\n",
              "      <th>Month</th>\n",
              "      <th>Day</th>\n",
              "    </tr>\n",
              "    <tr>\n",
              "      <th>Date</th>\n",
              "      <th></th>\n",
              "      <th></th>\n",
              "      <th></th>\n",
              "      <th></th>\n",
              "      <th></th>\n",
              "      <th></th>\n",
              "      <th></th>\n",
              "      <th></th>\n",
              "      <th></th>\n",
              "    </tr>\n",
              "  </thead>\n",
              "  <tbody>\n",
              "    <tr>\n",
              "      <th>1998-06-26</th>\n",
              "      <td>754</td>\n",
              "      <td>791</td>\n",
              "      <td>754</td>\n",
              "      <td>754</td>\n",
              "      <td>302831</td>\n",
              "      <td>NaN</td>\n",
              "      <td>1998</td>\n",
              "      <td>6</td>\n",
              "      <td>26</td>\n",
              "    </tr>\n",
              "    <tr>\n",
              "      <th>1998-06-27</th>\n",
              "      <td>757</td>\n",
              "      <td>780</td>\n",
              "      <td>756</td>\n",
              "      <td>769</td>\n",
              "      <td>140840</td>\n",
              "      <td>0.019894</td>\n",
              "      <td>1998</td>\n",
              "      <td>6</td>\n",
              "      <td>27</td>\n",
              "    </tr>\n",
              "    <tr>\n",
              "      <th>1998-06-29</th>\n",
              "      <td>781</td>\n",
              "      <td>791</td>\n",
              "      <td>765</td>\n",
              "      <td>765</td>\n",
              "      <td>330510</td>\n",
              "      <td>-0.005202</td>\n",
              "      <td>1998</td>\n",
              "      <td>6</td>\n",
              "      <td>29</td>\n",
              "    </tr>\n",
              "    <tr>\n",
              "      <th>1998-06-30</th>\n",
              "      <td>765</td>\n",
              "      <td>809</td>\n",
              "      <td>755</td>\n",
              "      <td>791</td>\n",
              "      <td>373730</td>\n",
              "      <td>0.033987</td>\n",
              "      <td>1998</td>\n",
              "      <td>6</td>\n",
              "      <td>30</td>\n",
              "    </tr>\n",
              "    <tr>\n",
              "      <th>1998-07-01</th>\n",
              "      <td>804</td>\n",
              "      <td>886</td>\n",
              "      <td>796</td>\n",
              "      <td>886</td>\n",
              "      <td>719666</td>\n",
              "      <td>0.120101</td>\n",
              "      <td>1998</td>\n",
              "      <td>7</td>\n",
              "      <td>1</td>\n",
              "    </tr>\n",
              "  </tbody>\n",
              "</table>\n",
              "</div>\n",
              "      <button class=\"colab-df-convert\" onclick=\"convertToInteractive('df-bfc0c7bd-73ea-4f27-b399-a06439c3ae1b')\"\n",
              "              title=\"Convert this dataframe to an interactive table.\"\n",
              "              style=\"display:none;\">\n",
              "        \n",
              "  <svg xmlns=\"http://www.w3.org/2000/svg\" height=\"24px\"viewBox=\"0 0 24 24\"\n",
              "       width=\"24px\">\n",
              "    <path d=\"M0 0h24v24H0V0z\" fill=\"none\"/>\n",
              "    <path d=\"M18.56 5.44l.94 2.06.94-2.06 2.06-.94-2.06-.94-.94-2.06-.94 2.06-2.06.94zm-11 1L8.5 8.5l.94-2.06 2.06-.94-2.06-.94L8.5 2.5l-.94 2.06-2.06.94zm10 10l.94 2.06.94-2.06 2.06-.94-2.06-.94-.94-2.06-.94 2.06-2.06.94z\"/><path d=\"M17.41 7.96l-1.37-1.37c-.4-.4-.92-.59-1.43-.59-.52 0-1.04.2-1.43.59L10.3 9.45l-7.72 7.72c-.78.78-.78 2.05 0 2.83L4 21.41c.39.39.9.59 1.41.59.51 0 1.02-.2 1.41-.59l7.78-7.78 2.81-2.81c.8-.78.8-2.07 0-2.86zM5.41 20L4 18.59l7.72-7.72 1.47 1.35L5.41 20z\"/>\n",
              "  </svg>\n",
              "      </button>\n",
              "      \n",
              "  <style>\n",
              "    .colab-df-container {\n",
              "      display:flex;\n",
              "      flex-wrap:wrap;\n",
              "      gap: 12px;\n",
              "    }\n",
              "\n",
              "    .colab-df-convert {\n",
              "      background-color: #E8F0FE;\n",
              "      border: none;\n",
              "      border-radius: 50%;\n",
              "      cursor: pointer;\n",
              "      display: none;\n",
              "      fill: #1967D2;\n",
              "      height: 32px;\n",
              "      padding: 0 0 0 0;\n",
              "      width: 32px;\n",
              "    }\n",
              "\n",
              "    .colab-df-convert:hover {\n",
              "      background-color: #E2EBFA;\n",
              "      box-shadow: 0px 1px 2px rgba(60, 64, 67, 0.3), 0px 1px 3px 1px rgba(60, 64, 67, 0.15);\n",
              "      fill: #174EA6;\n",
              "    }\n",
              "\n",
              "    [theme=dark] .colab-df-convert {\n",
              "      background-color: #3B4455;\n",
              "      fill: #D2E3FC;\n",
              "    }\n",
              "\n",
              "    [theme=dark] .colab-df-convert:hover {\n",
              "      background-color: #434B5C;\n",
              "      box-shadow: 0px 1px 3px 1px rgba(0, 0, 0, 0.15);\n",
              "      filter: drop-shadow(0px 1px 2px rgba(0, 0, 0, 0.3));\n",
              "      fill: #FFFFFF;\n",
              "    }\n",
              "  </style>\n",
              "\n",
              "      <script>\n",
              "        const buttonEl =\n",
              "          document.querySelector('#df-bfc0c7bd-73ea-4f27-b399-a06439c3ae1b button.colab-df-convert');\n",
              "        buttonEl.style.display =\n",
              "          google.colab.kernel.accessAllowed ? 'block' : 'none';\n",
              "\n",
              "        async function convertToInteractive(key) {\n",
              "          const element = document.querySelector('#df-bfc0c7bd-73ea-4f27-b399-a06439c3ae1b');\n",
              "          const dataTable =\n",
              "            await google.colab.kernel.invokeFunction('convertToInteractive',\n",
              "                                                     [key], {});\n",
              "          if (!dataTable) return;\n",
              "\n",
              "          const docLinkHtml = 'Like what you see? Visit the ' +\n",
              "            '<a target=\"_blank\" href=https://colab.research.google.com/notebooks/data_table.ipynb>data table notebook</a>'\n",
              "            + ' to learn more about interactive tables.';\n",
              "          element.innerHTML = '';\n",
              "          dataTable['output_type'] = 'display_data';\n",
              "          await google.colab.output.renderOutput(dataTable, element);\n",
              "          const docLink = document.createElement('div');\n",
              "          docLink.innerHTML = docLinkHtml;\n",
              "          element.appendChild(docLink);\n",
              "        }\n",
              "      </script>\n",
              "    </div>\n",
              "  </div>\n",
              "  "
            ]
          },
          "metadata": {},
          "execution_count": 20
        }
      ]
    },
    {
      "cell_type": "markdown",
      "source": [
        "### **시각화**"
      ],
      "metadata": {
        "id": "0BEu-GBCHMbZ"
      }
    },
    {
      "cell_type": "code",
      "source": [
        "plt.figure(figsize = (16,9))\n",
        "sns.lineplot(y=stock['Close'], x = stock.index)\n",
        "plt.xlabel('time')\n",
        "plt.ylabel('price')"
      ],
      "metadata": {
        "colab": {
          "base_uri": "https://localhost:8080/",
          "height": 568
        },
        "id": "hN-JLKJMHLcA",
        "outputId": "16b1ad7b-1c43-445f-e093-8605a477ee4c"
      },
      "execution_count": 25,
      "outputs": [
        {
          "output_type": "execute_result",
          "data": {
            "text/plain": [
              "Text(0, 0.5, 'price')"
            ]
          },
          "metadata": {},
          "execution_count": 25
        },
        {
          "output_type": "display_data",
          "data": {
            "text/plain": [
              "<Figure size 1152x648 with 1 Axes>"
            ],
            "image/png": "[encoded data removed]"
          },
          "metadata": {
            "needs_background": "light"
          }
        }
      ]
    },
    {
      "cell_type": "code",
      "source": [
        "time_steps = [['1990', '2000'], \n",
        "              ['2000', '2010'], \n",
        "              ['2010', '2015'], \n",
        "              ['2015', '2020']]\n",
        "\n",
        "fig, axes = plt.subplots(2,2) \n",
        "fig.set_size_inches(16,9)\n",
        "for i in range(4): \n",
        "  ax = axes[i//2, i%2]\n",
        "  df = stock.loc[(stock.index > time_steps[i][0]) & (stock.index < time_steps[i][1])]\n",
        "  sns.lineplot(y=df['Close'], x=df.index, ax=ax)\n",
        "  ax.set_title(f'{time_steps[i][0]} ~ {time_steps[i][1]}')\n",
        "  ax.set_xlabel('time')\n",
        "  ax.set_ylabel('price') \n",
        "plt.tight_layout() \n",
        "plt.show()"
      ],
      "metadata": {
        "colab": {
          "base_uri": "https://localhost:8080/",
          "height": 657
        },
        "id": "gLEZ0lgGHW8Z",
        "outputId": "369a1111-d275-46ea-da8e-96acddc7b0d3"
      },
      "execution_count": 29,
      "outputs": [
        {
          "output_type": "display_data",
          "data": {
            "text/plain": [
              "<Figure size 1152x648 with 4 Axes>"
            ],
            "image/png": "[encoded data removed]"
          },
          "metadata": {
            "needs_background": "light"
          }
        }
      ]
    },
    {
      "cell_type": "markdown",
      "source": [
        "### **데이터 전처리** \n",
        "주가 데이터에 대하여 딥러닝 모델이 더 잘 학습할 수 있도록 **정규화(Normalization)**을 합니다. "
      ],
      "metadata": {
        "id": "alBVyw6QJRG9"
      }
    },
    {
      "cell_type": "code",
      "source": [
        "from sklearn.model_selection import train_test_split \n",
        "from sklearn.preprocessing import MinMaxScaler\n",
        "\n",
        "scaler = MinMaxScaler()\n",
        "# 스케일을 적용할 column을 정의합니다.\n",
        "scale_cols = ['Open', 'High', 'Low', 'Close', 'Volume']\n",
        "# 스케일 후 columns\n",
        "scaled = scaler.fit_transform(stock[scale_cols])\n",
        "scaled"
      ],
      "metadata": {
        "colab": {
          "base_uri": "https://localhost:8080/"
        },
        "id": "Ty-N21GbIKZl",
        "outputId": "7b91de49-5f69-48d8-cd3c-2e13e30812a5"
      },
      "execution_count": 35,
      "outputs": [
        {
          "output_type": "execute_result",
          "data": {
            "text/plain": [
              "array([[0.00834994, 0.00817149, 0.00842458, 0.00128373, 0.00335338],\n",
              "       [0.00838317, 0.00805785, 0.00844693, 0.00144972, 0.00155958],\n",
              "       [0.00864895, 0.00817149, 0.00854749, 0.00140546, 0.00365988],\n",
              "       ...,\n",
              "       [0.63565891, 0.59710744, 0.63463687, 0.6248423 , 0.12652487],\n",
              "       [0.63344408, 0.59504132, 0.63575419, 0.6248423 , 0.08308497],\n",
              "       [0.62790698, 0.5857438 , 0.62458101, 0.6137757 , 0.11390815]])"
            ]
          },
          "metadata": {},
          "execution_count": 35
        }
      ]
    },
    {
      "cell_type": "markdown",
      "source": [
        "스케일이 완료된 column으로 새로운 데이터프레임을 생성하겠습니다. **시간 순으로 정렬**되어 있고, datetime index는 제외되어있습니다. 6,000개의 row, 5개 column으로 이루어진 데이터셋이 DataFrame으로 정리되어있습니다."
      ],
      "metadata": {
        "id": "ydgeV7CaJ30G"
      }
    },
    {
      "cell_type": "code",
      "source": [
        "df = pd.DataFrame(scaled, columns = scale_cols)"
      ],
      "metadata": {
        "id": "4u1Ornt4LZl5"
      },
      "execution_count": 36,
      "outputs": []
    },
    {
      "cell_type": "markdown",
      "source": [
        "### **train/test 분할**"
      ],
      "metadata": {
        "id": "eV79uXhMLdzn"
      }
    },
    {
      "cell_type": "code",
      "source": [
        "from sklearn.model_selection import train_test_split"
      ],
      "metadata": {
        "id": "vqgrNBhhJoCO"
      },
      "execution_count": 37,
      "outputs": []
    },
    {
      "cell_type": "code",
      "source": [
        "x_train, x_test, y_train, y_test = train_test_split(df.drop('Close',1),df['Close'], test_size = 0.2, random_state = 0, shuffle = False)"
      ],
      "metadata": {
        "id": "ChdJS1OLJpuY"
      },
      "execution_count": 38,
      "outputs": []
    },
    {
      "cell_type": "code",
      "source": [
        "x_train.shape, y_train.shape"
      ],
      "metadata": {
        "colab": {
          "base_uri": "https://localhost:8080/"
        },
        "id": "NmqRBsQxLq46",
        "outputId": "a7f57c13-ecfa-45d3-eb64-f258981625c1"
      },
      "execution_count": 39,
      "outputs": [
        {
          "output_type": "execute_result",
          "data": {
            "text/plain": [
              "((4800, 4), (4800,))"
            ]
          },
          "metadata": {},
          "execution_count": 39
        }
      ]
    },
    {
      "cell_type": "code",
      "source": [
        "x_test.shape, y_test.shape"
      ],
      "metadata": {
        "colab": {
          "base_uri": "https://localhost:8080/"
        },
        "id": "v7OqatZUMBtw",
        "outputId": "929565c9-a782-4006-9198-80e80d423e5c"
      },
      "execution_count": 40,
      "outputs": [
        {
          "output_type": "execute_result",
          "data": {
            "text/plain": [
              "((1200, 4), (1200,))"
            ]
          },
          "metadata": {},
          "execution_count": 40
        }
      ]
    },
    {
      "cell_type": "code",
      "source": [
        "x_train"
      ],
      "metadata": {
        "colab": {
          "base_uri": "https://localhost:8080/",
          "height": 424
        },
        "id": "CGIFQRLaMDLA",
        "outputId": "13ede78c-3253-4a0e-a4b0-9efb321cb9e3"
      },
      "execution_count": 42,
      "outputs": [
        {
          "output_type": "execute_result",
          "data": {
            "text/plain": [
              "          Open      High       Low    Volume\n",
              "0     0.008350  0.008171  0.008425  0.003353\n",
              "1     0.008383  0.008058  0.008447  0.001560\n",
              "2     0.008649  0.008171  0.008547  0.003660\n",
              "3     0.008472  0.008357  0.008436  0.004138\n",
              "4     0.008904  0.009153  0.008894  0.007969\n",
              "...        ...       ...       ...       ...\n",
              "4795  0.605748  0.565072  0.591955  0.002682\n",
              "4796  0.584718  0.558884  0.589944  0.001778\n",
              "4797  0.604651  0.564463  0.603352  0.001841\n",
              "4798  0.605748  0.565909  0.603799  0.001286\n",
              "4799  0.598450  0.562190  0.599989  0.001303\n",
              "\n",
              "[4800 rows x 4 columns]"
            ],
            "text/html": [
              "\n",
              "  <div id=\"df-ba791252-b482-41b5-ac32-09969dda843f\">\n",
              "    <div class=\"colab-df-container\">\n",
              "      <div>\n",
              "<style scoped>\n",
              "    .dataframe tbody tr th:only-of-type {\n",
              "        vertical-align: middle;\n",
              "    }\n",
              "\n",
              "    .dataframe tbody tr th {\n",
              "        vertical-align: top;\n",
              "    }\n",
              "\n",
              "    .dataframe thead th {\n",
              "        text-align: right;\n",
              "    }\n",
              "</style>\n",
              "<table border=\"1\" class=\"dataframe\">\n",
              "  <thead>\n",
              "    <tr style=\"text-align: right;\">\n",
              "      <th></th>\n",
              "      <th>Open</th>\n",
              "      <th>High</th>\n",
              "      <th>Low</th>\n",
              "      <th>Volume</th>\n",
              "    </tr>\n",
              "  </thead>\n",
              "  <tbody>\n",
              "    <tr>\n",
              "      <th>0</th>\n",
              "      <td>0.008350</td>\n",
              "      <td>0.008171</td>\n",
              "      <td>0.008425</td>\n",
              "      <td>0.003353</td>\n",
              "    </tr>\n",
              "    <tr>\n",
              "      <th>1</th>\n",
              "      <td>0.008383</td>\n",
              "      <td>0.008058</td>\n",
              "      <td>0.008447</td>\n",
              "      <td>0.001560</td>\n",
              "    </tr>\n",
              "    <tr>\n",
              "      <th>2</th>\n",
              "      <td>0.008649</td>\n",
              "      <td>0.008171</td>\n",
              "      <td>0.008547</td>\n",
              "      <td>0.003660</td>\n",
              "    </tr>\n",
              "    <tr>\n",
              "      <th>3</th>\n",
              "      <td>0.008472</td>\n",
              "      <td>0.008357</td>\n",
              "      <td>0.008436</td>\n",
              "      <td>0.004138</td>\n",
              "    </tr>\n",
              "    <tr>\n",
              "      <th>4</th>\n",
              "      <td>0.008904</td>\n",
              "      <td>0.009153</td>\n",
              "      <td>0.008894</td>\n",
              "      <td>0.007969</td>\n",
              "    </tr>\n",
              "    <tr>\n",
              "      <th>...</th>\n",
              "      <td>...</td>\n",
              "      <td>...</td>\n",
              "      <td>...</td>\n",
              "      <td>...</td>\n",
              "    </tr>\n",
              "    <tr>\n",
              "      <th>4795</th>\n",
              "      <td>0.605748</td>\n",
              "      <td>0.565072</td>\n",
              "      <td>0.591955</td>\n",
              "      <td>0.002682</td>\n",
              "    </tr>\n",
              "    <tr>\n",
              "      <th>4796</th>\n",
              "      <td>0.584718</td>\n",
              "      <td>0.558884</td>\n",
              "      <td>0.589944</td>\n",
              "      <td>0.001778</td>\n",
              "    </tr>\n",
              "    <tr>\n",
              "      <th>4797</th>\n",
              "      <td>0.604651</td>\n",
              "      <td>0.564463</td>\n",
              "      <td>0.603352</td>\n",
              "      <td>0.001841</td>\n",
              "    </tr>\n",
              "    <tr>\n",
              "      <th>4798</th>\n",
              "      <td>0.605748</td>\n",
              "      <td>0.565909</td>\n",
              "      <td>0.603799</td>\n",
              "      <td>0.001286</td>\n",
              "    </tr>\n",
              "    <tr>\n",
              "      <th>4799</th>\n",
              "      <td>0.598450</td>\n",
              "      <td>0.562190</td>\n",
              "      <td>0.599989</td>\n",
              "      <td>0.001303</td>\n",
              "    </tr>\n",
              "  </tbody>\n",
              "</table>\n",
              "<p>4800 rows × 4 columns</p>\n",
              "</div>\n",
              "      <button class=\"colab-df-convert\" onclick=\"convertToInteractive('df-ba791252-b482-41b5-ac32-09969dda843f')\"\n",
              "              title=\"Convert this dataframe to an interactive table.\"\n",
              "              style=\"display:none;\">\n",
              "        \n",
              "  <svg xmlns=\"http://www.w3.org/2000/svg\" height=\"24px\"viewBox=\"0 0 24 24\"\n",
              "       width=\"24px\">\n",
              "    <path d=\"M0 0h24v24H0V0z\" fill=\"none\"/>\n",
              "    <path d=\"M18.56 5.44l.94 2.06.94-2.06 2.06-.94-2.06-.94-.94-2.06-.94 2.06-2.06.94zm-11 1L8.5 8.5l.94-2.06 2.06-.94-2.06-.94L8.5 2.5l-.94 2.06-2.06.94zm10 10l.94 2.06.94-2.06 2.06-.94-2.06-.94-.94-2.06-.94 2.06-2.06.94z\"/><path d=\"M17.41 7.96l-1.37-1.37c-.4-.4-.92-.59-1.43-.59-.52 0-1.04.2-1.43.59L10.3 9.45l-7.72 7.72c-.78.78-.78 2.05 0 2.83L4 21.41c.39.39.9.59 1.41.59.51 0 1.02-.2 1.41-.59l7.78-7.78 2.81-2.81c.8-.78.8-2.07 0-2.86zM5.41 20L4 18.59l7.72-7.72 1.47 1.35L5.41 20z\"/>\n",
              "  </svg>\n",
              "      </button>\n",
              "      \n",
              "  <style>\n",
              "    .colab-df-container {\n",
              "      display:flex;\n",
              "      flex-wrap:wrap;\n",
              "      gap: 12px;\n",
              "    }\n",
              "\n",
              "    .colab-df-convert {\n",
              "      background-color: #E8F0FE;\n",
              "      border: none;\n",
              "      border-radius: 50%;\n",
              "      cursor: pointer;\n",
              "      display: none;\n",
              "      fill: #1967D2;\n",
              "      height: 32px;\n",
              "      padding: 0 0 0 0;\n",
              "      width: 32px;\n",
              "    }\n",
              "\n",
              "    .colab-df-convert:hover {\n",
              "      background-color: #E2EBFA;\n",
              "      box-shadow: 0px 1px 2px rgba(60, 64, 67, 0.3), 0px 1px 3px 1px rgba(60, 64, 67, 0.15);\n",
              "      fill: #174EA6;\n",
              "    }\n",
              "\n",
              "    [theme=dark] .colab-df-convert {\n",
              "      background-color: #3B4455;\n",
              "      fill: #D2E3FC;\n",
              "    }\n",
              "\n",
              "    [theme=dark] .colab-df-convert:hover {\n",
              "      background-color: #434B5C;\n",
              "      box-shadow: 0px 1px 3px 1px rgba(0, 0, 0, 0.15);\n",
              "      filter: drop-shadow(0px 1px 2px rgba(0, 0, 0, 0.3));\n",
              "      fill: #FFFFFF;\n",
              "    }\n",
              "  </style>\n",
              "\n",
              "      <script>\n",
              "        const buttonEl =\n",
              "          document.querySelector('#df-ba791252-b482-41b5-ac32-09969dda843f button.colab-df-convert');\n",
              "        buttonEl.style.display =\n",
              "          google.colab.kernel.accessAllowed ? 'block' : 'none';\n",
              "\n",
              "        async function convertToInteractive(key) {\n",
              "          const element = document.querySelector('#df-ba791252-b482-41b5-ac32-09969dda843f');\n",
              "          const dataTable =\n",
              "            await google.colab.kernel.invokeFunction('convertToInteractive',\n",
              "                                                     [key], {});\n",
              "          if (!dataTable) return;\n",
              "\n",
              "          const docLinkHtml = 'Like what you see? Visit the ' +\n",
              "            '<a target=\"_blank\" href=https://colab.research.google.com/notebooks/data_table.ipynb>data table notebook</a>'\n",
              "            + ' to learn more about interactive tables.';\n",
              "          element.innerHTML = '';\n",
              "          dataTable['output_type'] = 'display_data';\n",
              "          await google.colab.output.renderOutput(dataTable, element);\n",
              "          const docLink = document.createElement('div');\n",
              "          docLink.innerHTML = docLinkHtml;\n",
              "          element.appendChild(docLink);\n",
              "        }\n",
              "      </script>\n",
              "    </div>\n",
              "  </div>\n",
              "  "
            ]
          },
          "metadata": {},
          "execution_count": 42
        }
      ]
    },
    {
      "cell_type": "markdown",
      "source": [
        "### **TensorFlow Dataset을 활용한 시퀀스 데이터셋 구성**"
      ],
      "metadata": {
        "id": "uTA_2I8qMJKX"
      }
    },
    {
      "cell_type": "code",
      "source": [
        "import tensorflow as tf"
      ],
      "metadata": {
        "id": "qCE61kbfMEGe"
      },
      "execution_count": 43,
      "outputs": []
    },
    {
      "cell_type": "code",
      "source": [
        "def windowed_dataset(series, window_size, batch_size, shuffle): \n",
        "  series = tf.expand_dims(series, axis = -1)\n",
        "  ds = tf.data.Dataset.from_tensor_slices(series) \n",
        "  ds = ds.window(window_size + 1, shift=1, drop_remainder = True) \n",
        "  ds = ds.flat_map(lambda w: w.batch(window_size+1)) \n",
        "  if shuffle: \n",
        "    ds = ds.shuffle(1000) \n",
        "  ds = ds.map(lambda w: (w[:-1], w[-1])) \n",
        "  return ds.batch(batch_size).prefetch(1)"
      ],
      "metadata": {
        "id": "hYWobUEtMP_x"
      },
      "execution_count": 44,
      "outputs": []
    },
    {
      "cell_type": "code",
      "source": [
        "# Hyperparameter를 정의 \n",
        "WINDOW_SIZE = 20\n",
        "BATCH_SIZE = 32"
      ],
      "metadata": {
        "id": "fvHQh8NnM3L8"
      },
      "execution_count": 45,
      "outputs": []
    },
    {
      "cell_type": "code",
      "source": [
        "# train_data & test_data\n",
        "train_data = windowed_dataset(y_train, WINDOW_SIZE, BATCH_SIZE, True) \n",
        "test_data = windowed_dataset(y_test, WINDOW_SIZE, BATCH_SIZE, False)"
      ],
      "metadata": {
        "id": "UMnE8XttM7x7"
      },
      "execution_count": 46,
      "outputs": []
    },
    {
      "cell_type": "code",
      "source": [
        "# X: (batch_size, window_size, feature) \n",
        "# y: (batch_size, feature) \n",
        "for data in train_data.take(1): \n",
        "  print(f'데이터셋(X) 구성(batch_size, window_size, feature갯수): {data[0].shape}')\n",
        "  print(f'데이터셋(Y) 구성(batch_size, window_size, feature갯수): {data[1].shape}')"
      ],
      "metadata": {
        "colab": {
          "base_uri": "https://localhost:8080/"
        },
        "id": "lCKgIFMJNKTj",
        "outputId": "8d59c87f-1b33-49a3-c032-78ebdd1efb48"
      },
      "execution_count": 47,
      "outputs": [
        {
          "output_type": "stream",
          "name": "stdout",
          "text": [
            "데이터셋(X) 구성(batch_size, window_size, feature갯수): (32, 20, 1)\n",
            "데이터셋(Y) 구성(batch_size, window_size, feature갯수): (32, 1)\n"
          ]
        }
      ]
    },
    {
      "cell_type": "markdown",
      "source": [
        "### **모델**"
      ],
      "metadata": {
        "id": "u5hS6eRLN3J8"
      }
    },
    {
      "cell_type": "code",
      "source": [
        "from tensorflow.keras.models import Sequential\n",
        "from tensorflow.keras.layers import Dense, LSTM, Conv1D, Lambda\n",
        "from tensorflow.keras.losses import Huber\n",
        "from tensorflow.keras.optimizers import Adam\n",
        "from tensorflow.keras.callbacks import EarlyStopping, ModelCheckpoint\n",
        "\n",
        "\n",
        "model = Sequential([\n",
        "    # 1차원 feature map 생성\n",
        "    Conv1D(filters=32, kernel_size=5,\n",
        "           padding=\"causal\",\n",
        "           activation=\"relu\",\n",
        "           input_shape=[WINDOW_SIZE, 1]),\n",
        "    # LSTM\n",
        "    LSTM(16, activation='tanh'),\n",
        "    Dense(16, activation=\"relu\"),\n",
        "    Dense(1),\n",
        "])"
      ],
      "metadata": {
        "id": "jacp4pOHNuv4"
      },
      "execution_count": 48,
      "outputs": []
    },
    {
      "cell_type": "code",
      "source": [
        "# Sequence 학습에 비교적 좋은 퍼포먼스를 내는 Huber()를 사용합니다.\n",
        "loss = Huber()\n",
        "optimizer = Adam(0.0005)\n",
        "model.compile(loss=Huber(), optimizer=optimizer, metrics=['mse'])"
      ],
      "metadata": {
        "id": "2p2J7bQmN636"
      },
      "execution_count": 49,
      "outputs": []
    },
    {
      "cell_type": "code",
      "source": [
        "# earlystopping은 10번 epoch통안 val_loss 개선이 없다면 학습을 멈춥니다.\n",
        "earlystopping = EarlyStopping(monitor='val_loss', patience=10)\n",
        "# val_loss 기준 체크포인터도 생성합니다.\n",
        "filename = os.path.join('tmp', 'ckeckpointer.ckpt')\n",
        "checkpoint = ModelCheckpoint(filename, \n",
        "                             save_weights_only=True, \n",
        "                             save_best_only=True, \n",
        "                             monitor='val_loss', \n",
        "                             verbose=1)"
      ],
      "metadata": {
        "id": "lIBd6QfEPK0N"
      },
      "execution_count": 50,
      "outputs": []
    },
    {
      "cell_type": "code",
      "source": [
        "history = model.fit(train_data, \n",
        "                    validation_data=(test_data), \n",
        "                    epochs=50, \n",
        "                    callbacks=[checkpoint, earlystopping])"
      ],
      "metadata": {
        "colab": {
          "base_uri": "https://localhost:8080/"
        },
        "id": "LeOIQ9FNPNWe",
        "outputId": "789db0c1-6073-40b0-a934-508db0d7de6a"
      },
      "execution_count": 51,
      "outputs": [
        {
          "output_type": "stream",
          "name": "stdout",
          "text": [
            "Epoch 1/50\n",
            "    146/Unknown - 15s 7ms/step - loss: 1.7683e-04 - mse: 3.5366e-04\n",
            "Epoch 1: val_loss improved from inf to 0.00142, saving model to tmp/ckeckpointer.ckpt\n",
            "150/150 [==============================] - 16s 14ms/step - loss: 1.7448e-04 - mse: 3.4895e-04 - val_loss: 0.0014 - val_mse: 0.0028\n",
            "Epoch 2/50\n",
            "142/150 [===========================>..] - ETA: 0s - loss: 2.5807e-05 - mse: 5.1615e-05\n",
            "Epoch 2: val_loss improved from 0.00142 to 0.00114, saving model to tmp/ckeckpointer.ckpt\n",
            "150/150 [==============================] - 2s 10ms/step - loss: 2.7443e-05 - mse: 5.4886e-05 - val_loss: 0.0011 - val_mse: 0.0023\n",
            "Epoch 3/50\n",
            "147/150 [============================>.] - ETA: 0s - loss: 2.3200e-05 - mse: 4.6399e-05\n",
            "Epoch 3: val_loss improved from 0.00114 to 0.00107, saving model to tmp/ckeckpointer.ckpt\n",
            "150/150 [==============================] - 1s 9ms/step - loss: 2.3556e-05 - mse: 4.7111e-05 - val_loss: 0.0011 - val_mse: 0.0021\n",
            "Epoch 4/50\n",
            "148/150 [============================>.] - ETA: 0s - loss: 2.2946e-05 - mse: 4.5893e-05\n",
            "Epoch 4: val_loss did not improve from 0.00107\n",
            "150/150 [==============================] - 1s 8ms/step - loss: 2.2968e-05 - mse: 4.5936e-05 - val_loss: 0.0011 - val_mse: 0.0023\n",
            "Epoch 5/50\n",
            "144/150 [===========================>..] - ETA: 0s - loss: 2.0439e-05 - mse: 4.0878e-05\n",
            "Epoch 5: val_loss improved from 0.00107 to 0.00101, saving model to tmp/ckeckpointer.ckpt\n",
            "150/150 [==============================] - 1s 9ms/step - loss: 2.1382e-05 - mse: 4.2765e-05 - val_loss: 0.0010 - val_mse: 0.0020\n",
            "Epoch 6/50\n",
            "150/150 [==============================] - ETA: 0s - loss: 2.1868e-05 - mse: 4.3737e-05\n",
            "Epoch 6: val_loss did not improve from 0.00101\n",
            "150/150 [==============================] - 1s 9ms/step - loss: 2.1868e-05 - mse: 4.3737e-05 - val_loss: 0.0012 - val_mse: 0.0025\n",
            "Epoch 7/50\n",
            "150/150 [==============================] - ETA: 0s - loss: 2.2074e-05 - mse: 4.4149e-05\n",
            "Epoch 7: val_loss improved from 0.00101 to 0.00100, saving model to tmp/ckeckpointer.ckpt\n",
            "150/150 [==============================] - 1s 9ms/step - loss: 2.2074e-05 - mse: 4.4149e-05 - val_loss: 0.0010 - val_mse: 0.0020\n",
            "Epoch 8/50\n",
            "145/150 [============================>.] - ETA: 0s - loss: 1.8122e-05 - mse: 3.6243e-05\n",
            "Epoch 8: val_loss improved from 0.00100 to 0.00087, saving model to tmp/ckeckpointer.ckpt\n",
            "150/150 [==============================] - 1s 9ms/step - loss: 1.8572e-05 - mse: 3.7144e-05 - val_loss: 8.6551e-04 - val_mse: 0.0017\n",
            "Epoch 9/50\n",
            "141/150 [===========================>..] - ETA: 0s - loss: 1.7660e-05 - mse: 3.5320e-05\n",
            "Epoch 9: val_loss improved from 0.00087 to 0.00076, saving model to tmp/ckeckpointer.ckpt\n",
            "150/150 [==============================] - 1s 9ms/step - loss: 1.9086e-05 - mse: 3.8172e-05 - val_loss: 7.6397e-04 - val_mse: 0.0015\n",
            "Epoch 10/50\n",
            "149/150 [============================>.] - ETA: 0s - loss: 2.0273e-05 - mse: 4.0546e-05\n",
            "Epoch 10: val_loss did not improve from 0.00076\n",
            "150/150 [==============================] - 1s 9ms/step - loss: 2.0308e-05 - mse: 4.0617e-05 - val_loss: 8.0915e-04 - val_mse: 0.0016\n",
            "Epoch 11/50\n",
            "144/150 [===========================>..] - ETA: 0s - loss: 1.7955e-05 - mse: 3.5910e-05\n",
            "Epoch 11: val_loss improved from 0.00076 to 0.00073, saving model to tmp/ckeckpointer.ckpt\n",
            "150/150 [==============================] - 1s 9ms/step - loss: 1.8682e-05 - mse: 3.7363e-05 - val_loss: 7.3277e-04 - val_mse: 0.0015\n",
            "Epoch 12/50\n",
            "145/150 [============================>.] - ETA: 0s - loss: 1.6540e-05 - mse: 3.3079e-05\n",
            "Epoch 12: val_loss improved from 0.00073 to 0.00062, saving model to tmp/ckeckpointer.ckpt\n",
            "150/150 [==============================] - 1s 9ms/step - loss: 1.7163e-05 - mse: 3.4326e-05 - val_loss: 6.1543e-04 - val_mse: 0.0012\n",
            "Epoch 13/50\n",
            "149/150 [============================>.] - ETA: 0s - loss: 1.5977e-05 - mse: 3.1954e-05\n",
            "Epoch 13: val_loss did not improve from 0.00062\n",
            "150/150 [==============================] - 1s 9ms/step - loss: 1.6007e-05 - mse: 3.2014e-05 - val_loss: 6.6656e-04 - val_mse: 0.0013\n",
            "Epoch 14/50\n",
            "142/150 [===========================>..] - ETA: 0s - loss: 1.5744e-05 - mse: 3.1487e-05\n",
            "Epoch 14: val_loss did not improve from 0.00062\n",
            "150/150 [==============================] - 1s 9ms/step - loss: 1.6518e-05 - mse: 3.3036e-05 - val_loss: 7.9519e-04 - val_mse: 0.0016\n",
            "Epoch 15/50\n",
            "142/150 [===========================>..] - ETA: 0s - loss: 1.5580e-05 - mse: 3.1159e-05\n",
            "Epoch 15: val_loss did not improve from 0.00062\n",
            "150/150 [==============================] - 1s 9ms/step - loss: 1.6352e-05 - mse: 3.2704e-05 - val_loss: 6.8080e-04 - val_mse: 0.0014\n",
            "Epoch 16/50\n",
            "142/150 [===========================>..] - ETA: 0s - loss: 1.5256e-05 - mse: 3.0513e-05\n",
            "Epoch 16: val_loss did not improve from 0.00062\n",
            "150/150 [==============================] - 1s 9ms/step - loss: 1.6142e-05 - mse: 3.2284e-05 - val_loss: 6.2557e-04 - val_mse: 0.0013\n",
            "Epoch 17/50\n",
            "146/150 [============================>.] - ETA: 0s - loss: 1.6171e-05 - mse: 3.2341e-05\n",
            "Epoch 17: val_loss did not improve from 0.00062\n",
            "150/150 [==============================] - 2s 11ms/step - loss: 1.6418e-05 - mse: 3.2836e-05 - val_loss: 6.7980e-04 - val_mse: 0.0014\n",
            "Epoch 18/50\n",
            "143/150 [===========================>..] - ETA: 0s - loss: 1.5525e-05 - mse: 3.1049e-05\n",
            "Epoch 18: val_loss did not improve from 0.00062\n",
            "150/150 [==============================] - 2s 14ms/step - loss: 1.6551e-05 - mse: 3.3101e-05 - val_loss: 7.5737e-04 - val_mse: 0.0015\n",
            "Epoch 19/50\n",
            "147/150 [============================>.] - ETA: 0s - loss: 1.5996e-05 - mse: 3.1992e-05\n",
            "Epoch 19: val_loss did not improve from 0.00062\n",
            "150/150 [==============================] - 1s 9ms/step - loss: 1.6322e-05 - mse: 3.2644e-05 - val_loss: 9.8072e-04 - val_mse: 0.0020\n",
            "Epoch 20/50\n",
            "150/150 [==============================] - ETA: 0s - loss: 1.5369e-05 - mse: 3.0737e-05\n",
            "Epoch 20: val_loss did not improve from 0.00062\n",
            "150/150 [==============================] - 1s 8ms/step - loss: 1.5369e-05 - mse: 3.0737e-05 - val_loss: 6.4130e-04 - val_mse: 0.0013\n",
            "Epoch 21/50\n",
            "140/150 [===========================>..] - ETA: 0s - loss: 1.3219e-05 - mse: 2.6438e-05\n",
            "Epoch 21: val_loss did not improve from 0.00062\n",
            "150/150 [==============================] - 1s 9ms/step - loss: 1.3918e-05 - mse: 2.7836e-05 - val_loss: 7.5114e-04 - val_mse: 0.0015\n",
            "Epoch 22/50\n",
            "150/150 [==============================] - ETA: 0s - loss: 1.3404e-05 - mse: 2.6808e-05\n",
            "Epoch 22: val_loss improved from 0.00062 to 0.00061, saving model to tmp/ckeckpointer.ckpt\n",
            "150/150 [==============================] - 1s 8ms/step - loss: 1.3404e-05 - mse: 2.6808e-05 - val_loss: 6.1217e-04 - val_mse: 0.0012\n",
            "Epoch 23/50\n",
            "146/150 [============================>.] - ETA: 0s - loss: 1.4086e-05 - mse: 2.8173e-05\n",
            "Epoch 23: val_loss did not improve from 0.00061\n",
            "150/150 [==============================] - 1s 8ms/step - loss: 1.4607e-05 - mse: 2.9215e-05 - val_loss: 8.7258e-04 - val_mse: 0.0017\n",
            "Epoch 24/50\n",
            "146/150 [============================>.] - ETA: 0s - loss: 1.2933e-05 - mse: 2.5866e-05\n",
            "Epoch 24: val_loss did not improve from 0.00061\n",
            "150/150 [==============================] - 1s 8ms/step - loss: 1.3076e-05 - mse: 2.6153e-05 - val_loss: 7.0530e-04 - val_mse: 0.0014\n",
            "Epoch 25/50\n",
            "146/150 [============================>.] - ETA: 0s - loss: 1.2121e-05 - mse: 2.4241e-05\n",
            "Epoch 25: val_loss improved from 0.00061 to 0.00052, saving model to tmp/ckeckpointer.ckpt\n",
            "150/150 [==============================] - 1s 9ms/step - loss: 1.2376e-05 - mse: 2.4751e-05 - val_loss: 5.1700e-04 - val_mse: 0.0010\n",
            "Epoch 26/50\n",
            "142/150 [===========================>..] - ETA: 0s - loss: 1.1509e-05 - mse: 2.3019e-05\n",
            "Epoch 26: val_loss did not improve from 0.00052\n",
            "150/150 [==============================] - 1s 9ms/step - loss: 1.2124e-05 - mse: 2.4248e-05 - val_loss: 5.5307e-04 - val_mse: 0.0011\n",
            "Epoch 27/50\n",
            "142/150 [===========================>..] - ETA: 0s - loss: 1.3824e-05 - mse: 2.7647e-05\n",
            "Epoch 27: val_loss improved from 0.00052 to 0.00050, saving model to tmp/ckeckpointer.ckpt\n",
            "150/150 [==============================] - 1s 9ms/step - loss: 1.4788e-05 - mse: 2.9577e-05 - val_loss: 4.9516e-04 - val_mse: 9.9033e-04\n",
            "Epoch 28/50\n",
            "145/150 [============================>.] - ETA: 0s - loss: 1.1556e-05 - mse: 2.3112e-05\n",
            "Epoch 28: val_loss improved from 0.00050 to 0.00048, saving model to tmp/ckeckpointer.ckpt\n",
            "150/150 [==============================] - 1s 9ms/step - loss: 1.1994e-05 - mse: 2.3988e-05 - val_loss: 4.7900e-04 - val_mse: 9.5801e-04\n",
            "Epoch 29/50\n",
            "143/150 [===========================>..] - ETA: 0s - loss: 1.3836e-05 - mse: 2.7671e-05\n",
            "Epoch 29: val_loss did not improve from 0.00048\n",
            "150/150 [==============================] - 1s 8ms/step - loss: 1.5324e-05 - mse: 3.0647e-05 - val_loss: 0.0010 - val_mse: 0.0021\n",
            "Epoch 30/50\n",
            "146/150 [============================>.] - ETA: 0s - loss: 1.5692e-05 - mse: 3.1384e-05\n",
            "Epoch 30: val_loss improved from 0.00048 to 0.00027, saving model to tmp/ckeckpointer.ckpt\n",
            "150/150 [==============================] - 1s 9ms/step - loss: 1.6299e-05 - mse: 3.2597e-05 - val_loss: 2.7321e-04 - val_mse: 5.4643e-04\n",
            "Epoch 31/50\n",
            "147/150 [============================>.] - ETA: 0s - loss: 1.2357e-05 - mse: 2.4714e-05\n",
            "Epoch 31: val_loss did not improve from 0.00027\n",
            "150/150 [==============================] - 1s 9ms/step - loss: 1.2518e-05 - mse: 2.5036e-05 - val_loss: 3.6758e-04 - val_mse: 7.3516e-04\n",
            "Epoch 32/50\n",
            "147/150 [============================>.] - ETA: 0s - loss: 1.2225e-05 - mse: 2.4450e-05\n",
            "Epoch 32: val_loss did not improve from 0.00027\n",
            "150/150 [==============================] - 1s 9ms/step - loss: 1.2305e-05 - mse: 2.4611e-05 - val_loss: 4.3622e-04 - val_mse: 8.7243e-04\n",
            "Epoch 33/50\n",
            "148/150 [============================>.] - ETA: 0s - loss: 1.1330e-05 - mse: 2.2660e-05\n",
            "Epoch 33: val_loss did not improve from 0.00027\n",
            "150/150 [==============================] - 2s 9ms/step - loss: 1.1385e-05 - mse: 2.2771e-05 - val_loss: 3.3909e-04 - val_mse: 6.7817e-04\n",
            "Epoch 34/50\n",
            "146/150 [============================>.] - ETA: 0s - loss: 1.1279e-05 - mse: 2.2559e-05\n",
            "Epoch 34: val_loss did not improve from 0.00027\n",
            "150/150 [==============================] - 1s 8ms/step - loss: 1.1612e-05 - mse: 2.3225e-05 - val_loss: 4.7570e-04 - val_mse: 9.5140e-04\n",
            "Epoch 35/50\n",
            "148/150 [============================>.] - ETA: 0s - loss: 1.2496e-05 - mse: 2.4993e-05\n",
            "Epoch 35: val_loss did not improve from 0.00027\n",
            "150/150 [==============================] - 1s 9ms/step - loss: 1.2550e-05 - mse: 2.5101e-05 - val_loss: 5.1840e-04 - val_mse: 0.0010\n",
            "Epoch 36/50\n",
            "150/150 [==============================] - ETA: 0s - loss: 1.1002e-05 - mse: 2.2003e-05\n",
            "Epoch 36: val_loss did not improve from 0.00027\n",
            "150/150 [==============================] - 1s 9ms/step - loss: 1.1002e-05 - mse: 2.2003e-05 - val_loss: 4.2644e-04 - val_mse: 8.5288e-04\n",
            "Epoch 37/50\n",
            "144/150 [===========================>..] - ETA: 0s - loss: 1.0324e-05 - mse: 2.0649e-05\n",
            "Epoch 37: val_loss did not improve from 0.00027\n",
            "150/150 [==============================] - 2s 10ms/step - loss: 1.0657e-05 - mse: 2.1315e-05 - val_loss: 3.8371e-04 - val_mse: 7.6741e-04\n",
            "Epoch 38/50\n",
            "147/150 [============================>.] - ETA: 0s - loss: 1.0740e-05 - mse: 2.1479e-05\n",
            "Epoch 38: val_loss did not improve from 0.00027\n",
            "150/150 [==============================] - 1s 9ms/step - loss: 1.1218e-05 - mse: 2.2435e-05 - val_loss: 3.5302e-04 - val_mse: 7.0604e-04\n",
            "Epoch 39/50\n",
            "149/150 [============================>.] - ETA: 0s - loss: 1.0867e-05 - mse: 2.1733e-05\n",
            "Epoch 39: val_loss did not improve from 0.00027\n",
            "150/150 [==============================] - 2s 9ms/step - loss: 1.0868e-05 - mse: 2.1736e-05 - val_loss: 5.9563e-04 - val_mse: 0.0012\n",
            "Epoch 40/50\n",
            "150/150 [==============================] - ETA: 0s - loss: 1.1260e-05 - mse: 2.2520e-05\n",
            "Epoch 40: val_loss did not improve from 0.00027\n",
            "150/150 [==============================] - 1s 9ms/step - loss: 1.1260e-05 - mse: 2.2520e-05 - val_loss: 2.7639e-04 - val_mse: 5.5278e-04\n"
          ]
        }
      ]
    },
    {
      "cell_type": "code",
      "source": [
        "model.load_weights(filename)\n"
      ],
      "metadata": {
        "colab": {
          "base_uri": "https://localhost:8080/"
        },
        "id": "masQdbO9PO6R",
        "outputId": "27e011b0-3873-4581-f84f-695b5a1df79d"
      },
      "execution_count": 52,
      "outputs": [
        {
          "output_type": "execute_result",
          "data": {
            "text/plain": [
              "<tensorflow.python.training.tracking.util.CheckpointLoadStatus at 0x7ff3ee79ff10>"
            ]
          },
          "metadata": {},
          "execution_count": 52
        }
      ]
    },
    {
      "cell_type": "code",
      "source": [
        "pred = model.predict(test_data)\n",
        "pred.shape"
      ],
      "metadata": {
        "colab": {
          "base_uri": "https://localhost:8080/"
        },
        "id": "WJRLhPoPQZbZ",
        "outputId": "0b6301c3-90e7-457c-9754-def92dde8779"
      },
      "execution_count": 53,
      "outputs": [
        {
          "output_type": "execute_result",
          "data": {
            "text/plain": [
              "(1180, 1)"
            ]
          },
          "metadata": {},
          "execution_count": 53
        }
      ]
    },
    {
      "cell_type": "markdown",
      "source": [
        "### **예측 데이터 시각화**"
      ],
      "metadata": {
        "id": "QtrKaHZMQc7C"
      }
    },
    {
      "cell_type": "code",
      "source": [
        "plt.figure(figsize=(12,9))\n",
        "plt.plot(np.asarray(y_test)[20:], label='actual')\n",
        "plt.plot(pred, label = 'prediction')\n",
        "plt.legend() \n",
        "plt.show()"
      ],
      "metadata": {
        "colab": {
          "base_uri": "https://localhost:8080/",
          "height": 537
        },
        "id": "VCv0CQcQQb3R",
        "outputId": "e0f57496-e585-4934-93c6-899b24693111"
      },
      "execution_count": 54,
      "outputs": [
        {
          "output_type": "display_data",
          "data": {
            "text/plain": [
              "<Figure size 864x648 with 1 Axes>"
            ],
            "image/png": "[encoded data removed]"
          },
          "metadata": {
            "needs_background": "light"
          }
        }
      ]
    }
  ]
}
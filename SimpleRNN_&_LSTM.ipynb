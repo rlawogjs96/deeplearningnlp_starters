{
  "nbformat": 4,
  "nbformat_minor": 0,
  "metadata": {
    "colab": {
      "name": "SimpleRNN & LSTM.ipynb",
      "provenance": [],
      "collapsed_sections": [],
      "authorship_tag": "ABX9TyPSLvyRwQo1tEABZFUhjCdF",
      "include_colab_link": true
    },
    "kernelspec": {
      "name": "python3",
      "display_name": "Python 3"
    },
    "language_info": {
      "name": "python"
    },
    "accelerator": "GPU",
    "gpuClass": "standard"
  },
  "cells": [
    {
      "cell_type": "markdown",
      "metadata": {
        "id": "view-in-github",
        "colab_type": "text"
      },
      "source": [
        "<a href=\"https://colab.research.google.com/github/rlawogjs96/deeplearningnlp_starters/blob/main/SimpleRNN_%26_LSTM.ipynb\" target=\"_parent\"><img src=\"https://colab.research.google.com/assets/colab-badge.svg\" alt=\"Open In Colab\"/></a>"
      ]
    },
    {
      "cell_type": "markdown",
      "source": [
        "#### 1. 입의의 입력 생성"
      ],
      "metadata": {
        "id": "lq2p5VFg3i_x"
      }
    },
    {
      "cell_type": "markdown",
      "source": [
        "RNN: \n",
        "\n",
        "입력과 출력을 시퀀스 단위로 처리하는 Sequence Model. 은닉층의 노드에서 활성화 함수를 통해 나온 결과값을 출력층 방향으로도 내보내면서, 다시 은닉층 노드의 다음 계산의 입력으로 보내는 특징을 갖고 있다. \n",
        "\n",
        "LSTM: \n",
        "\n",
        "이전의 계산 결과게 의존하는 Vanilla RNN 은 비교적 짧은 시퀀스에 대해서만 효과를 보이는 단점이 있고, 장기 의존성 문제를 갖고 있다. 이를 보완하기 위해 은닉층의 메모리 셀에 입력 게이트, 망각 게이트, 출력 게이트를 추가하여 불필요한 기억을 지우고, 기억해야할것들을 저장한다. 은닉 상태를 계산하는 식이 전통적인 RNN보다 복잡하고 cell state값을 추가한다. \n"
      ],
      "metadata": {
        "id": "MMtQj9Oe38tE"
      }
    },
    {
      "cell_type": "code",
      "execution_count": 1,
      "metadata": {
        "id": "ZT81_1rVAZDa"
      },
      "outputs": [],
      "source": [
        "import numpy as np\n",
        "import tensorflow as tf\n",
        "from tensorflow.keras.layers import SimpleRNN, GRU, LSTM, Bidirectional"
      ]
    },
    {
      "cell_type": "markdown",
      "source": [
        "RNN과 LSTM을 테스트하기 위한 임의의 입력 생성."
      ],
      "metadata": {
        "id": "nYx8Szy_4jPc"
      }
    },
    {
      "cell_type": "code",
      "source": [
        "train_X = [[0.1, 4.2, 1.5, 1.1, 2.8], [1.0, 3.1, 2.5, 0.7, 1.1], [0.3, 2.1, 1.5, 2.1, 0.1], [2.2, 1.4, 0.5, 0.9, 1.1]]\n",
        "print(np.shape(train_X))"
      ],
      "metadata": {
        "colab": {
          "base_uri": "https://localhost:8080/"
        },
        "id": "R8IFcazU364_",
        "outputId": "709907c8-4519-42cc-e323-54e73b4077ff"
      },
      "execution_count": 2,
      "outputs": [
        {
          "output_type": "stream",
          "name": "stdout",
          "text": [
            "(4, 5)\n"
          ]
        }
      ]
    },
    {
      "cell_type": "markdown",
      "source": [
        "차원 5의 단어 벡터, 문장의 길이가 4인 경우를 가정한 입력. 4번의 timesteps 가 존재하고 각 시점마다 5차원의 단어 벡터가 입력으로 사용된다. "
      ],
      "metadata": {
        "id": "fDpv65lD4npU"
      }
    },
    {
      "cell_type": "code",
      "source": [
        "train_X = [[[0.1, 4.2, 1.5, 1.1, 2.8], [1.0, 3.1, 2.5, 0.7, 1.1], [0.3, 2.1, 1.5, 2.1, 0.1], [2.2, 1.4, 0.5, 0.9, 1.1]]]\n",
        "train_X = np.array(train_X, dtype=np.float32)\n",
        "print(train_X.shape)"
      ],
      "metadata": {
        "colab": {
          "base_uri": "https://localhost:8080/"
        },
        "id": "Ik3RJD5z4mqQ",
        "outputId": "2bacdf5f-d5ae-4f81-8947-ad219aa97022"
      },
      "execution_count": 3,
      "outputs": [
        {
          "output_type": "stream",
          "name": "stdout",
          "text": [
            "(1, 4, 5)\n"
          ]
        }
      ]
    },
    {
      "cell_type": "markdown",
      "source": [
        "(batch_size, timesteps, input_dim) 에 해당되는 (1,4,5)의 크기를 가지는 3D 텐서 생성. "
      ],
      "metadata": {
        "id": "Gnwu8e5z40wR"
      }
    },
    {
      "cell_type": "markdown",
      "source": [
        "#### 2. SimpleRNN\n",
        "\n",
        "대표적인 인자: return_sequences & return_state. "
      ],
      "metadata": {
        "id": "3Xi6GZQ147Er"
      }
    },
    {
      "cell_type": "code",
      "source": [
        "rnn = SimpleRNN(3)\n",
        "# rnn = SimpleRNN(3, return_sequences = False, return_state=False)\n",
        "hidden_state = rnn(train_X)\n",
        "\n",
        "print('hidden state : {}, shape: {}'.format(hidden_state, hidden_state.shape))"
      ],
      "metadata": {
        "colab": {
          "base_uri": "https://localhost:8080/"
        },
        "id": "sIMTysKo4z6C",
        "outputId": "13b51b63-5798-4bbf-9534-7d0eae4114b1"
      },
      "execution_count": 4,
      "outputs": [
        {
          "output_type": "stream",
          "name": "stdout",
          "text": [
            "hidden state : [[-0.8965507  0.5017719  0.8398456]], shape: (1, 3)\n"
          ]
        }
      ]
    },
    {
      "cell_type": "markdown",
      "source": [
        "(1,3) 크기의 텐서가 출력되고 마지막 시점의 은닉 상태를 뜻한다."
      ],
      "metadata": {
        "id": "dMtjb5PU5NOa"
      }
    },
    {
      "cell_type": "code",
      "source": [
        "# return_sequences = True \n",
        "rnn = SimpleRNN(3, return_sequences = True)\n",
        "hidden_states = rnn(train_X)\n",
        "\n",
        "print('hidden states: {}, shape: {}'.format(hidden_states, hidden_states.shape))"
      ],
      "metadata": {
        "colab": {
          "base_uri": "https://localhost:8080/"
        },
        "id": "LeFNY4Mh5K-c",
        "outputId": "4a586826-aee6-41aa-953a-57eb99595953"
      },
      "execution_count": 5,
      "outputs": [
        {
          "output_type": "stream",
          "name": "stdout",
          "text": [
            "hidden states: [[[ 0.7961828  -0.53845507 -0.989022  ]\n",
            "  [ 0.4177882  -0.916745   -0.5154493 ]\n",
            "  [-0.54442936 -0.5303156  -0.95509654]\n",
            "  [-0.945594   -0.9915304   0.34603497]]], shape: (1, 4, 3)\n"
          ]
        }
      ]
    },
    {
      "cell_type": "markdown",
      "source": [
        "(1,4,3) 크기의 텐서 출력."
      ],
      "metadata": {
        "id": "-7ncUuGh5b8_"
      }
    },
    {
      "cell_type": "code",
      "source": [
        "rnn = SimpleRNN(3, return_sequences=True, return_state=True)\n",
        "hidden_states, last_state = rnn(train_X)\n",
        "\n",
        "print('hidden states : {}, shape: {}'.format(hidden_states, hidden_states.shape))\n",
        "print('last hidden state : {}, shape: {}'.format(last_state, last_state.shape))"
      ],
      "metadata": {
        "colab": {
          "base_uri": "https://localhost:8080/"
        },
        "id": "mXxxBTYG5a7a",
        "outputId": "1daa3b8e-c91e-42cc-d545-b46643ae5dfd"
      },
      "execution_count": 6,
      "outputs": [
        {
          "output_type": "stream",
          "name": "stdout",
          "text": [
            "hidden states : [[[-0.8411755  -0.56159264  0.29249784]\n",
            "  [ 0.50252366 -0.9576726   0.96509784]\n",
            "  [ 0.5242358  -0.95948493  0.9644806 ]\n",
            "  [ 0.6955955  -0.8698927   0.987058  ]]], shape: (1, 4, 3)\n",
            "last hidden state : [[ 0.6955955 -0.8698927  0.987058 ]], shape: (1, 3)\n"
          ]
        }
      ]
    },
    {
      "cell_type": "code",
      "source": [
        "# return_sequences = False, return_state = True\n",
        "rnn = SimpleRNN(3, return_sequences=False, return_state=True)\n",
        "hidden_state, last_state = rnn(train_X)\n",
        "\n",
        "print('hidden state : {}, shape: {}'.format(hidden_state, hidden_state.shape))\n",
        "print('last hidden state : {}, shape: {}'.format(last_state, last_state.shape))"
      ],
      "metadata": {
        "colab": {
          "base_uri": "https://localhost:8080/"
        },
        "id": "sqJuBML35g8U",
        "outputId": "2a697ff5-65ca-4fe9-846b-8377dace32d9"
      },
      "execution_count": 7,
      "outputs": [
        {
          "output_type": "stream",
          "name": "stdout",
          "text": [
            "hidden state : [[-0.9805586  0.9934239 -0.6707047]], shape: (1, 3)\n",
            "last hidden state : [[-0.9805586  0.9934239 -0.6707047]], shape: (1, 3)\n"
          ]
        }
      ]
    },
    {
      "cell_type": "markdown",
      "source": [
        "#### 3. LSTM\n",
        "\n",
        "LSTM, GRU를 주로 사용한다. 임의의 입력에 대해 LSTM 사용법을 제시."
      ],
      "metadata": {
        "id": "u3BzBFgC5ph1"
      }
    },
    {
      "cell_type": "code",
      "source": [
        "# return_sequences = False, return_state = True \n",
        "lstm = LSTM(3, return_sequences=False, return_state=True)\n",
        "hidden_state, last_state, last_cell_state = lstm(train_X)\n",
        "\n",
        "print('hidden state : {}, shape: {}'.format(hidden_state, hidden_state.shape))\n",
        "print('last hidden state : {}, shape: {}'.format(last_state, last_state.shape))\n",
        "print('last cell state : {}, shape: {}'.format(last_cell_state, last_cell_state.shape))"
      ],
      "metadata": {
        "colab": {
          "base_uri": "https://localhost:8080/"
        },
        "id": "T4X6GBkG5oCC",
        "outputId": "53c22370-fe6e-4232-9d2e-7ecde5662101"
      },
      "execution_count": 8,
      "outputs": [
        {
          "output_type": "stream",
          "name": "stdout",
          "text": [
            "hidden state : [[-0.09633814  0.25800747 -0.6241176 ]], shape: (1, 3)\n",
            "last hidden state : [[-0.09633814  0.25800747 -0.6241176 ]], shape: (1, 3)\n",
            "last cell state : [[-0.45223483  0.57520163 -1.1347775 ]], shape: (1, 3)\n"
          ]
        }
      ]
    },
    {
      "cell_type": "markdown",
      "source": [
        "return_sequences 가 False이므로 첫번째 결과는 마지막 시점의 은닉 상태를 뜻한다. LSTM이 SimpleRNN과 다른 점은 return_state를 True로 둔 경우 마지막 시점의 은닉 상태 뿐만 아니라 셀 상태까지 반환된다는 점이다. "
      ],
      "metadata": {
        "id": "pinENFeo6YS7"
      }
    },
    {
      "cell_type": "code",
      "source": [
        "lstm = LSTM(3, return_sequences=True, return_state=True)\n",
        "hidden_states, last_hidden_state, last_cell_state = lstm(train_X)\n",
        "\n",
        "print('hidden states : {}, shape: {}'.format(hidden_states, hidden_states.shape))\n",
        "print('last hidden state : {}, shape: {}'.format(last_hidden_state, last_hidden_state.shape))\n",
        "print('last cell state : {}, shape: {}'.format(last_cell_state, last_cell_state.shape))"
      ],
      "metadata": {
        "colab": {
          "base_uri": "https://localhost:8080/"
        },
        "id": "NGEnuwzS507t",
        "outputId": "a6327b52-19b2-435e-e276-27b5e150474d"
      },
      "execution_count": 9,
      "outputs": [
        {
          "output_type": "stream",
          "name": "stdout",
          "text": [
            "hidden states : [[[-0.3382276   0.02623067 -0.54568684]\n",
            "  [-0.49404567  0.04622558 -0.53478175]\n",
            "  [-0.32339776  0.10913593 -0.44493848]\n",
            "  [-0.6307183   0.35400432 -0.5973396 ]]], shape: (1, 4, 3)\n",
            "last hidden state : [[-0.6307183   0.35400432 -0.5973396 ]], shape: (1, 3)\n",
            "last cell state : [[-1.6650007  0.6444044 -0.7940281]], shape: (1, 3)\n"
          ]
        }
      ]
    },
    {
      "cell_type": "markdown",
      "source": [
        "#### 4. BiDirectional RNN\n",
        "양방향 LSTM의 출력값을 확인. return_sequences가 True인 경우와 False인 경우에 대해 은닉 상태의 값이 어떻게 바뀌는지 비교하기 위해 출력되는 은닉 상태의 값을 고정시켜준다."
      ],
      "metadata": {
        "id": "xDUAS2ti6zCi"
      }
    },
    {
      "cell_type": "code",
      "source": [
        "k_init = tf.keras.initializers.Constant(value=0.1)\n",
        "b_init = tf.keras.initializers.Constant(value=0)\n",
        "r_init = tf.keras.initializers.Constant(value=0.1)"
      ],
      "metadata": {
        "id": "gCaxsUqa6qyi"
      },
      "execution_count": 10,
      "outputs": []
    },
    {
      "cell_type": "code",
      "source": [
        "# return_sequences = False, return_state = True\n",
        "bilstm = Bidirectional(LSTM(3, return_sequences=False, return_state=True, \\\n",
        "                            kernel_initializer=k_init, bias_initializer=b_init, recurrent_initializer=r_init))\n",
        "hidden_states, forward_h, forward_c, backward_h, backward_c = bilstm(train_X)\n",
        "\n",
        "print('hidden states : {}, shape: {}'.format(hidden_states, hidden_states.shape))\n",
        "print('forward state : {}, shape: {}'.format(forward_h, forward_h.shape))\n",
        "print('backward state : {}, shape: {}'.format(backward_h, backward_h.shape))"
      ],
      "metadata": {
        "colab": {
          "base_uri": "https://localhost:8080/"
        },
        "id": "uo6KX9QC6_Ny",
        "outputId": "b9142aa6-1d96-409f-e65f-bbb5800cdda8"
      },
      "execution_count": 11,
      "outputs": [
        {
          "output_type": "stream",
          "name": "stdout",
          "text": [
            "hidden states : [[0.6303139  0.6303139  0.6303139  0.70387346 0.70387346 0.70387346]], shape: (1, 6)\n",
            "forward state : [[0.6303139 0.6303139 0.6303139]], shape: (1, 3)\n",
            "backward state : [[0.70387346 0.70387346 0.70387346]], shape: (1, 3)\n"
          ]
        }
      ]
    },
    {
      "cell_type": "code",
      "source": [
        "bilstm = Bidirectional(LSTM(3, return_sequences=True, return_state=True, \\\n",
        "                            kernel_initializer=k_init, bias_initializer=b_init, recurrent_initializer=r_init))\n",
        "hidden_states, forward_h, forward_c, backward_h, backward_c = bilstm(train_X)"
      ],
      "metadata": {
        "id": "Y6h0d4qn7EhC"
      },
      "execution_count": 12,
      "outputs": []
    },
    {
      "cell_type": "code",
      "source": [
        "print('hidden states : {}, shape: {}'.format(hidden_states, hidden_states.shape))\n",
        "print('forward state : {}, shape: {}'.format(forward_h, forward_h.shape))\n",
        "print('backward state : {}, shape: {}'.format(backward_h, backward_h.shape))"
      ],
      "metadata": {
        "colab": {
          "base_uri": "https://localhost:8080/"
        },
        "id": "v90rUldQ7GGQ",
        "outputId": "d05091df-88a6-4f9e-dc8f-dd53d8a575f6"
      },
      "execution_count": 14,
      "outputs": [
        {
          "output_type": "stream",
          "name": "stdout",
          "text": [
            "hidden states : [[[0.35906476 0.35906476 0.35906476 0.70387346 0.70387346 0.70387346]\n",
            "  [0.5511133  0.5511133  0.5511133  0.5886358  0.5886358  0.5886358 ]\n",
            "  [0.5911575  0.5911575  0.5911575  0.39516988 0.39516988 0.39516988]\n",
            "  [0.6303139  0.6303139  0.6303139  0.2194224  0.2194224  0.2194224 ]]], shape: (1, 4, 6)\n",
            "forward state : [[0.6303139 0.6303139 0.6303139]], shape: (1, 3)\n",
            "backward state : [[0.70387346 0.70387346 0.70387346]], shape: (1, 3)\n"
          ]
        }
      ]
    }
  ]
}
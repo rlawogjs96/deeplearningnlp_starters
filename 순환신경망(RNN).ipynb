{
  "nbformat": 4,
  "nbformat_minor": 0,
  "metadata": {
    "colab": {
      "name": "순환신경망(RNN).ipynb",
      "provenance": [],
      "collapsed_sections": [],
      "include_colab_link": true
    },
    "kernelspec": {
      "name": "python3",
      "display_name": "Python 3"
    },
    "language_info": {
      "name": "python"
    },
    "accelerator": "GPU",
    "gpuClass": "standard"
  },
  "cells": [
    {
      "cell_type": "markdown",
      "metadata": {
        "id": "view-in-github",
        "colab_type": "text"
      },
      "source": [
        "<a href=\"https://colab.research.google.com/github/rlawogjs96/deeplearningnlp_starters/blob/main/%EC%88%9C%ED%99%98%EC%8B%A0%EA%B2%BD%EB%A7%9D(RNN).ipynb\" target=\"_parent\"><img src=\"https://colab.research.google.com/assets/colab-badge.svg\" alt=\"Open In Colab\"/></a>"
      ]
    },
    {
      "cell_type": "markdown",
      "source": [
        "**은닉 상태:** 메모리 셀이 출력층 방향 또는 다음 시점인 t+1의 자신에게 보내는 값을 은닉상태라고 합니다. t 시점의 메모리 셀은 t-1 시점의 메모리 셀이 보낸 은닉 상태값을 t 시점의 은닉 상태 계산을 위한 입력값으로 사용한다. "
      ],
      "metadata": {
        "id": "jxfyEJwfTguw"
      }
    },
    {
      "cell_type": "markdown",
      "source": [
        "은닉상태값: $$h_t$$\n",
        "\n"
      ],
      "metadata": {
        "id": "dENihii_VmFo"
      }
    },
    {
      "cell_type": "markdown",
      "source": [
        "![rnn_image4_ver2.png](data:image/png;base64,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)\n",
        "\n",
        "은닉층: \n",
        "$$h_t = tanh(W_xx_t +W_hh_{t+1}+b)$$\n",
        "\n",
        "출력층: \n",
        "$$y_t = f(W_yh_t + b)$$"
      ],
      "metadata": {
        "id": "km6UM1o3T13v"
      }
    },
    {
      "cell_type": "markdown",
      "source": [
        "**hidden_units:** \n",
        "은닉 상태의 크기. 메모리 셀이 다음 시점의 메모리 셀과 출력층으로 보내는 값의 크기. \n",
        "\n",
        "**timesteps:** \n",
        "입력 시퀀스의 길이. 시점의 수 \n",
        "\n",
        "**input_dim:**\n",
        "입력의 크기"
      ],
      "metadata": {
        "id": "rjU34HZMWScH"
      }
    },
    {
      "cell_type": "code",
      "source": [
        "# RNN 층을 추가\n",
        "model.add(SimpleRNN(hidden_units))\n",
        "\n",
        "# 추가 인자 사용 \n",
        "model.add(SimpleRNN(hidden_units, input_shape = (timesteps, input_dim)))"
      ],
      "metadata": {
        "id": "eu_7eBjZT1Zx"
      },
      "execution_count": null,
      "outputs": []
    },
    {
      "cell_type": "markdown",
      "source": [
        "RNN 층은 위에서 설명한 입력 3D 텐서를 입력받아서 어떻게 은닉 상태를 출력할까? \n",
        "RNN 층은 사용자의 설정에 따라 두 가지 종류의 출력을 내보낸다. \n",
        "\n",
        "1.   **메모리 셀의 최종 시점의 은닉 상태만을 리턴한다면:**\n",
        "    *   (batch_size, output_dim) 크기의 2D 텐서를 리턴한다. \n",
        "\n",
        "2.   **메모리 셀의 각 시점 (timestep)의 은닉 상태값들을 모아서 전체 시퀀스를 리턴하고자 한다면:** \n",
        "    *   (batch_size, timesteps, output_dim) 크기의 3D 텐서를 리턴한다. \n",
        "    *   이는 RNN 층의 return_sequences 매개 변수에 True를 설정하여 설정이 가능하다. \n",
        "\n"
      ],
      "metadata": {
        "id": "IqbhG2tWWmw8"
      }
    },
    {
      "cell_type": "markdown",
      "source": [
        "![rnn_image8_ver2.png](data:image/png;base64,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)"
      ],
      "metadata": {
        "id": "NsYPJtOMXZqs"
      }
    },
    {
      "cell_type": "markdown",
      "source": [
        "return_sequences = True로 선택하면 메모리 셀이 모든 시점에 대해서 은닉 상태값 출력. return_sequences = False로 선택하면 메모리 셀은 하나의 은닉 상태값만을 출력. "
      ],
      "metadata": {
        "id": "d4S9_igsXjeB"
      }
    },
    {
      "cell_type": "code",
      "source": [
        "from tensorflow.keras.models import Sequential \n",
        "from tensorflow.keras.layers import SimpleRNN \n",
        "\n",
        "model = Sequential() \n",
        "\n",
        "#model.add(SimpleRNN(hidden_units, input_shape = (timesteps, input_dim)))\n",
        "model.add(SimpleRNN(3, input_shape=(2,10))) # 은닉상태크기 = 3, 시점의 수  = 2, 입력크기 = 10\n",
        "\n",
        "model.summary()"
      ],
      "metadata": {
        "colab": {
          "base_uri": "https://localhost:8080/"
        },
        "id": "xyWoaAK2WRGv",
        "outputId": "9ef60249-4d99-44ff-84f3-6d53771996eb"
      },
      "execution_count": null,
      "outputs": [
        {
          "output_type": "stream",
          "name": "stdout",
          "text": [
            "Model: \"sequential\"\n",
            "_________________________________________________________________\n",
            " Layer (type)                Output Shape              Param #   \n",
            "=================================================================\n",
            " simple_rnn (SimpleRNN)      (None, 3)                 42        \n",
            "                                                                 \n",
            "=================================================================\n",
            "Total params: 42\n",
            "Trainable params: 42\n",
            "Non-trainable params: 0\n",
            "_________________________________________________________________\n"
          ]
        }
      ]
    },
    {
      "cell_type": "markdown",
      "source": [
        "출력값이 (batch_size, output_dim) 크기의 2D 텐서인 경우, output_dim 은 hidden_units의 값인 3이다. 현재 batch_size를 현 단계에서는 알 수 없으므로 (None, 3)이 된다. "
      ],
      "metadata": {
        "id": "47sTP0giYOcJ"
      }
    },
    {
      "cell_type": "code",
      "source": [
        "# Batch Size 를 미리 정한 경우 \n",
        "model = Sequential()\n",
        "model.add(SimpleRNN(3, batch_input_shape=(8,2,10)))\n",
        "model.summary()"
      ],
      "metadata": {
        "colab": {
          "base_uri": "https://localhost:8080/"
        },
        "id": "OtNCk6TUX67a",
        "outputId": "55c2c6e5-062a-4780-eca7-7ce133191edc"
      },
      "execution_count": null,
      "outputs": [
        {
          "output_type": "stream",
          "name": "stdout",
          "text": [
            "Model: \"sequential_1\"\n",
            "_________________________________________________________________\n",
            " Layer (type)                Output Shape              Param #   \n",
            "=================================================================\n",
            " simple_rnn_2 (SimpleRNN)    (8, 3)                    42        \n",
            "                                                                 \n",
            "=================================================================\n",
            "Total params: 42\n",
            "Trainable params: 42\n",
            "Non-trainable params: 0\n",
            "_________________________________________________________________\n"
          ]
        }
      ]
    },
    {
      "cell_type": "code",
      "source": [
        "# return_sequences = True --> Return 3D Tensor \n",
        "model = Sequential() \n",
        "model.add(SimpleRNN(3, batch_input_shape=(8,2,10), return_sequences = True))\n",
        "model.summary()"
      ],
      "metadata": {
        "colab": {
          "base_uri": "https://localhost:8080/"
        },
        "id": "bN43R67zZDUy",
        "outputId": "428cb650-ce21-42da-d449-065577cb2221"
      },
      "execution_count": null,
      "outputs": [
        {
          "output_type": "stream",
          "name": "stdout",
          "text": [
            "Model: \"sequential_2\"\n",
            "_________________________________________________________________\n",
            " Layer (type)                Output Shape              Param #   \n",
            "=================================================================\n",
            " simple_rnn_3 (SimpleRNN)    (8, 2, 3)                 42        \n",
            "                                                                 \n",
            "=================================================================\n",
            "Total params: 42\n",
            "Trainable params: 42\n",
            "Non-trainable params: 0\n",
            "_________________________________________________________________\n"
          ]
        }
      ]
    },
    {
      "cell_type": "markdown",
      "source": [
        "# RNN Using Python\n",
        "**Calculate hidden_state:**\n",
        "$$h_t = tanh(W_xX_t + W_hh_{t-1}+b)$$"
      ],
      "metadata": {
        "id": "ChpSgR3gZnko"
      }
    },
    {
      "cell_type": "code",
      "source": [
        "# pseudocode\n",
        "# Numpy 로 RNN층을 구현 \n",
        "\n",
        "hidden_state_t = 0 # 초기 은닉 상태를 0(벡터)로 초기화\n",
        "for input_t in input_length: # 각 시점마다 입력을 받는다. \n",
        "    output_t = tanh(input_t, hidden_state_t) # 각 시점에 대해서 입력과 은닉 상태를 가지고 연산 \n",
        "    hidden_state_t = output_t # 계산 결과는 현재 시점의 은닉 상태가 된다."
      ],
      "metadata": {
        "id": "YCVYhUHCZnWV"
      },
      "execution_count": null,
      "outputs": []
    },
    {
      "cell_type": "markdown",
      "source": [
        "입력 데이터의 길이 = input_length. 입력 데이터의 길이는 곧 총 시점의 수 (timesteps)가 된다. 그리고 t 시점의 입력값을 input_t로 선언한다. t 시점의 입력값은 input_t가 된다. 각 메모리 셀은 각 시점마다 input_t와 hidden_state_t를 입력으로 활성화 함수인 $tanh$ 함수를 통해 현시점의 hidden_state_t를 계산한다."
      ],
      "metadata": {
        "id": "O0FOXPkObDAl"
      }
    },
    {
      "cell_type": "code",
      "source": [
        "import numpy as np\n",
        "\n",
        "timesteps = 10 # 시점의 수 \n",
        "input_dim = 4 # 입력 크기 \n",
        "hidden_units = 8 # 은닉 상태 크기 \n",
        "\n",
        "# 입력에 해당되는 2D 텐서 \n",
        "inputs = np.random.random((timesteps, input_dim))\n",
        "\n",
        "# 초기 은닉 상태는 0으로 초기화 \n",
        "hidden_state_t = np.zeros((hidden_units,))\n",
        "\n",
        "print('초기 은닉 상태 :', hidden_state_t)"
      ],
      "metadata": {
        "colab": {
          "base_uri": "https://localhost:8080/"
        },
        "id": "8Z9abIfjaM_t",
        "outputId": "bc13b044-e5e7-42ea-ad4a-3f610fcb23a5"
      },
      "execution_count": null,
      "outputs": [
        {
          "output_type": "stream",
          "name": "stdout",
          "text": [
            "초기 은닉 상태 : [0. 0. 0. 0. 0. 0. 0. 0.]\n"
          ]
        }
      ]
    },
    {
      "cell_type": "markdown",
      "source": [
        "hidden_units = 8: 8차원을 가지는 0의 값으로 구성된 벡터 출력. \n",
        "\n",
        "![캡처.PNG](data:image/png;base64,iVBORw0KGgoAAAANSUhEUgAAAJUAAACVCAYAAABRorhPAAAAAXNSR0IArs4c6QAAAARnQU1BAACxjwv8YQUAAAAJcEhZcwAADsMAAA7DAcdvqGQAABKDSURBVHhe7Z29axtZF8b1Z0xrcLECF3EnwTYSpLAgRQQuVpDCiC2MSPEiUhiRxogURqQwIkUwKRacIuAUAblYkJuAtwgoxYK2MChFChUpVKSYIsV5z/2SRqP5uCPdmTuWzw8MkeRdjec+c8+5M+e5pwAEYRgSFWEcEhVhHBIVYRwSFWEcEhVhHBIVYRwSFWEcEhVhHBIVYRwSFWEcEhVhHBIVYRwSFWGcByKqGdyeNaB748rXdnD/6UHj7BaPZrt5AKJy4fa0DOWzEf4rjBH0n5Rhp1CAQqEFg5/ybeOIY9l/eRtxLPefrReV+6UL5UddGP2Sb4QygYvHKKrDS/zXBvxyYfr1CjpPHKj/FfR/GkHvURE6n7dXVlsuqilcHhag9lZDJt8voY4z1T7OaOsy/dSG6uMmtI9rOOMVQkSF8n2Hnz++2Ey8OWa7RXV3AbVCHS6/ydcRzD61uBA6N/INxo8xjH/If6/gwuTrJDiM/dONFJUQcBn6/8nXW4YdUf2awOC0CY3nTajt1aF3PYD+UR1aRzWo/m+A84sOYhYqnN7K16tMPzSg8KiHASeA2RguX9ShftyG5kEdGhiuCoUmXHlF9O0KmnuNAFG6MHqNx4rfHZh0x4mKh0D8/L3eX3rfsCAqHJBXVWh/EsMxeVvFAXCgfT2CiwOWKOPM8p1/FMvtabSo+OeYI60M3fcBtEqFRfL+Xx+qKILC04CQxIS1653tYgTFiBXVFK6e4fdhwr6NZC+qn0PoHKlk2IXhCyYktuKawvC8B72/RkuDNbsbwWSt1VjYwM1gcMxmJc8qLy6fmgtrFi8oRqyoIgS/BVjOqUQYCD25M5xRcBbrrHV/SYZHv6h4noXvH13NheH+3eYiaF1HfM83IbziyTBaUAxdUT3dcKWZU+yKSs4Q1Tdj+YaPzx0oODijxI5iEMGiUgl5/d1iOEevAvKpJVy4xZBdfd7FsKmR+JOoMubnCC7PetC/mcoBxpnos/zs7hKaL4c4hBgK3/SgxXKsUhM6Z30YauZZXm5f4n//fCDyJglP3nHA59+Jw3r5FH/vcR/GGOZaKwsFKSgV8r6xfCxGWLGikmHfd2zbQuaicq/FTFF7O4LBczyxhRpc8AHCHOi4Ct1/1GkWNyPL5yGzGBKXqI9e70PhiS/5luFPhbrJ+wY4+JrNaNOPuBpduqflE5QiTlixohJC3uSeWJ7JfqbClVe7UoPGEf6cX+GyvgbFJ01oHdah/dEzCDyf2oHuF/k6gDhRuTcdFIz/sYsL43dNKJYa0D6uQ/NsAIPzBr6uQu1JF2496nFvuuHP6lBY7cP+0u0KcfOzCuVddrGwnx0o4+vquU887hDabMX79zbOU9YT9XB48szyqR94VR/jYK+zAsTB6zjeUJcTcCZznDYMU3vGaJf8iupLD2q4jG+fNKH3ea1MnTN6Xc5Z7sLyKYffI9tWcisqY/y8hW5pH3pf5WvbfO1BubQcZreN7RcV49slNEqd9UKoSZjAK0GPfbaLhyEqhjuDmW1R5eEYMuDhiIrIDBIVYRwSFWEcEhVhHBIVYRwSFWEcEhVhHBKV4hd7xtiAyzv5+t7Aqjtaubqhmr2oWDnx4yoUHfkkf7cMVV5ejIP6p+cJv1OE6uOueOjK/pvSjnzy70Cx0oZBaEHdOuB3P9uB1ofV+tPRmxpUK0VRHqOqDtgPf28Hasd9uDV6LHEEGF/ZEwNHo3gwIyzNVKo2fbWCYPq+zt9frUUaQ//3MnQ3eLgcBivcc46ufMV5HmSF6orRdDaGi2esahQHdI0iwvVZNb7OPjZzU0lqLfzxWqgAUY3O9vn7NU+5L4OVwlTTeLLv3kL3UXRtk6phDyx7vrvgTpziqwyrDoKMGrLMJw81WtZExasy8cQsed/UjMB+vLXl7gi6LOSl8GSfF/I5HbiNsMWLY/WUPS+BomTH+3sf51IN1jWoegg0viK3pzhr5qDMx5qoVsMcC4lV6J6KE+YV1eRtLdJEEIoUafcf+ToAbnrwOGtWEaW/4caIW+iw4y2gMOU7kaxjUNUxviJCbF2940gR66Iqy5DCNtKovhjAjFVFskFStq0fA2hVehobbAQhZpFwUQnHjRNRkizKmvF4goymDGnd4sYJfDm96QvDxm6IM5qRxKCaxPiK59DRtPmniTVRKXOAmJEw8cQrkJ8MFQJ50sm23qnhNJ9C3ONgWMU8JHIWlCIPMymoUOTMZ1Yp1BPmCopAy6Ca0PiqMTNnQS5ENcWBmSfhSlQsR8EkuH4csSrbGDGTRYlK5X7+/EXABh2PtbCP+ZaUkDTAtq41LoQ4g2pS46s8d7Zr8u2JSq6aCr9jrnDQgeH8rKocBd9/WgvcGWXyqQOtl/hTqUHzzyY0D6tQfR0abCKIE5U0pIblU3IQnWeepbyc2YqHbeidNKB4gGEwcMqKN6gmNr4+eFGpGYld1R+9c5FcTeFP4I5zP66gxUOjmCWc4x50nxRgJ+h3YxFJuMrrVlD5lMyXlmE3THGAffXmfMORXeYCwhf8b9yB3orNTM+gmtj4yi/UqvUtiuyJanoFDTZgB3iClpJweWPPacFVUNz75cqSXJkPRW7HE5eoy/CF4ScQOev4E3n3+xCF7IBT6cBg6evFpiDzfIrb9nEWXlJ7AoOqDH96xleEfV+kfT8b7ImKD3jZ40hWiJATewuB5yNyFkChuYGrwzhR4UCxXe3895j+xVzOawplj5LU45m9IpQPW9C/HsNs5TtZ6HagIR/3sPtGznOcTWaLvzGZQVXf+Mrgs+SB/R36LIpqPWbXLb5s7r3GfENu3jF5V4eW3O8qMXw2CM5pEsPDTxn6/+K/+R1uFtoH0Kt0w28vGENcjFpbUabMPRRVG4qP8ao9akKjUobWSQca/7va4OoUy/bQnWcSwPeJ2FUCGkG/4kD5AAX/IYOBZhdHWMqQMfdOVKnAn/Lbz0XWh10YO9BY56lDCpCoJC4m5WV/FcI9gSXwwTdP7UCi8vJzBp6c+t7gzmZr3E5JDxIVYRwSFWEcEhVhHBIVYRwSFWEcEhVhHBIVYRwS1Zx8dC9Nn/TNp9mLKpdmUla2HNy9NDdm0q99qHnO205JHod8b+egBX1dT2TK5lNLM1W+zKSx3UtVQaF1M6mqRPULYgbjt6LWSrfdW5rmU2vhLzdmUo2SkdyYSfmm/njeQipReXHjb5plNimaT62JKi9mUp16qtyYSb/2YB+/a+HcWUZcqPodT9Myn1oTVV7MpJHdSzk5MJNKJn+Jc9b8GPwbvMETfq5rfEjLfGpdVHbNpPLqVt8VREIzqRZJzKRzlB2sLhtE+VHiT2B8SMl8ak1Um5hJtVzAWoR1L/UgRa5rJtU+Ni0zqRe8QNjKL7QntBS/2hdiOoQ+7zof5OaRaMzk65ALUSU3k4rkOtYFHItcTUWIKrGZNMmxxZlJvch8Ksz5o8TttbXxaLDi5vEgz7VuuNTFnqjkqmkdM2kiF3AkcaKSnycxk2ofW7yZ1ItKF4LzKXmcjjdXE4Jnbp7QI9k6UakZiQ1AEjMpQ4akeBdwPEHdS+esYSbVOzY9M+kCNSMG50vCD+i/hyfD5V4d2q870NirYRj0HQi/sM2bT+2Jal0zKaLnAmbEJ+o8vPm7lyqkQPTNpDrHlsBMOkcKxPGt1NwpDF/VwHGq0Ln2HQgXzI6cMcVMtuPPC1Myn9oTFR/wdcykOi5gRbyoAruXrm0mjT+2ZGbSMVywfSLmj6iWHxMVUYSt80HgfS9+q2T+3cLk6u+an5b51KKo1iXeBZwIo91LDR/bBrCw7jyTixw24zLj7feZx8ktLt40zKf3T1R8WjfrAjbWvTSFY1sPkUKIpuYuDE9Q3LiKHpxVFz2p8VjTMp/eO1Gl4gI21L3UqkPZy0+2wFg0NR+dV8Ep1fjtGXEk6ZpP72H4SwlWDpKH7qUZkLb5lETl5YF0Dk3bfEqiIoxDoiKMQ6IijEOiIoxDoiKMQ6IijEOiIoxDotLh2yW0vDVT94L0TaNhWBLVGC7+UMZIx3g5q1HYnfbdFlz5fX0/BtD2VDI4e7J6QL7n7DWg+3Gc6k3GWNixW+hYanGmUoVnvrKTXMFKWRxoBrTBVXCbEysr8VU5TK87UEax7Z+u04kiAe4MJjd9aJaCKy1sdCy1KCpZeBbZa88ubHPZfactrPeByILCwAtDubAbqW1DzR4UVw9b0H4m6+iDyndSNI2GYU9UspB/LT9fJsiSkQhTxLzcOGRXY1VXHtjxaoUYI2mECVV9T1hNWFqm0TCsiUoYI4vQfNGGxnEHOkeYY/3Rh1FGoTDW7wei902YcZPDy3HD7VvK/Kl34SzKjFcGn5UaV4IMqII4UaVlGg3DkqhUPuXwmh5+EqURQneDiU3hAxElKn480YuIaPuWqL5kn+vNVAwhrLLX8BEjKEacqLLuWGpJVNKG5W3bz6smkwxAysQOhCjHDTcOjKD3iH0u/x/uGK5OGhjyMfFfcg/5WQhrpiEoRqyo5AWb1SrbjqgC8ilxYnAAfEv32d0IJklD4i/MT6670HizQREvJumrW/Z4UPlUmB1emT+9+RZ359Tg4k6+DgWF9ZLNgnWN39UXVejnhrEiKnESvOW7M7g68g0AQxoz/S6QSO4G0DvrQgtXZc4m2/vEiYoLJCyfQlGcMlEsu4V4uCxp7LkgN/HonNSWQ2EIJCo8RWKp3YGhcnbIP5o5O9zPOMO8k6edW5xwuZ74noMITRuJilvSw7flUflUULjmfW5kvrhAhkunCs2zHoY1XKQEhcGlXWHExh1xwooVFU8tsutYakFUMtfw3J8SbV3ZHz3FBL6KM9gUhm/wxLONLkpN6Jz1YZhop7p4UfGBiErUZXgLTsJVPuUL179mMHrfQkHtQBMvjKVrwWUbljlQPRfHxFafjjenZARuMxQvrFhRpWQaDSN7UU3xxHHrkud0fh9Au7IPtcM6NPGki8Hw2oySYkBU7PtR1Mv9lXHVeiKMnCz0sdVrsaIez5ShuIez0Okl3H4PGH6e+Kt8Smz7s7xbILPRhz2rQ2GdN6H9aflo+c1P/O75/ql8n9Tqyu9l3bHUTqKuA58pFjYjNqDjmyEMw36+TD1XsoHwh/BWuIYecfB7Vsq+xcM9htavbgZdu8S5yLJjaW5FxffZZPnUD7yCj7sJrVNmRMU3XMMcaPNcROSRagcWLtZSD4YfWnM3c2qkaBoNI7+i+tKD2m4d2idN6CXZkZiv/jrQYHkbz8cuN7pLz3dU2fj55Bj6pYUdnvWB3nlUxXDfS9lnmK5pNIz8hr/cwG4PlHP8jDIcWx1LSVSa5K37pw62jplERRiHREUYh0RFGIdERRiHREUYh0RFGIdERRhnq0Q1+9yDxummXSCyxp7pMy2siGp0zro5lPmTflPlw7yGqRSwEb7Jjp5pYcn0mRbWZipejhFVWZkE1g+wtO+paPDjqX9a+r7kHT3XxZ1NYHjehHJICzcbps+0sCQqsYl9onZmEfDaqKh6IV4gF/Z90hCq29EzMSPo46xYP26Lh9xhfQEtmD7Two6o5CBHGjW1EcV0kQ98jXb0xNnt3/Bw6X4LM2qo2TK82WTWps+0sCMqXgVZgGKpBo3nbWhWWLVikCjkQJxGiI/3uIneA91sR88JXB0VofF+9XhdFG+t4muANCdeVFmbPtPCiqhEPrUwBojG19VAOxKfRaJEpVwvoTXsyrhqsKMnF9bO0uwYLShGvKiyNn2mhQVRyUH2dtjkwlgvWRamiYiBwk8SdfTUNn0uhDWLFRRDQ1QZmz7TIntRqaTZ02FThad1bi8IJ0nEQClTZ4KOnvqmT5zlmFB+8zbBDENfVFn589Iie1HJQV7MSio86QziKnGiUvYl/Y6e0tOnYfpk98aqlRZ0n+tUhpKo0kMm6fMTJ5fSrMvTWneKuKctbOM0JdjgfCm4o6cSWrTpUwhKhbwJDGKFpSGqjE2faWEl/DERqVA3fsOcJeH5SGyizmc+nOUCk1uZTyXp6MnDc7Tpc1lQijhhaYgqY9NnWlhI1HH++NyD+l4Nmsd1qL+4hFHESYwVlU+kgvU7esaaPn8OoftHL+QiQGG9qEN/6c6+uPm5MKCiSPn+oO3gVrkZmj7TwoqozCJ2vAvv2J6Mh2T6TIstEBWCIbBsZEPah2X6TIvtEBWKgXnzwrZJ1OdhmT7TYktExWAbXJRxVZl6nDKOLdNnWmyRqBiY+1jorL4p99GoGsWWiYrIAyQqwjgkKsI4JCrCOCQqwjgkKsI4JCrCOCQqwjgkKsI4JCrCOCQqwjgkKsI4JCrCOCQqwjgkKsI4JCrCOCQqwjAA/we7ESozNFrd7gAAAABJRU5ErkJggg==)"
      ],
      "metadata": {
        "id": "KqjMrk7lerQU"
      }
    },
    {
      "cell_type": "code",
      "source": [
        "Wx = np.random.random((hidden_units, input_dim))  # (8, 4)크기의 2D 텐서 생성. 입력에 대한 가중치.\n",
        "Wh = np.random.random((hidden_units, hidden_units)) # (8, 8)크기의 2D 텐서 생성. 은닉 상태에 대한 가중치.\n",
        "b = np.random.random((hidden_units,)) # (8,)크기의 1D 텐서 생성. 이 값은 편향(bias).\n",
        "\n",
        "print('가중치 Wx의 크기(shape) :',np.shape(Wx))\n",
        "print('가중치 Wh의 크기(shape) :',np.shape(Wh))\n",
        "print('편향의 크기(shape) :',np.shape(b))"
      ],
      "metadata": {
        "colab": {
          "base_uri": "https://localhost:8080/"
        },
        "id": "ZIIFotgcdjXN",
        "outputId": "6d9af217-8718-4d21-ec15-2d250a6e1dc0"
      },
      "execution_count": null,
      "outputs": [
        {
          "output_type": "stream",
          "name": "stdout",
          "text": [
            "가중치 Wx의 크기(shape) : (8, 4)\n",
            "가중치 Wh의 크기(shape) : (8, 8)\n",
            "편향의 크기(shape) : (8,)\n"
          ]
        }
      ]
    },
    {
      "cell_type": "code",
      "source": [
        "total_hidden_states = []\n",
        "\n",
        "# 각 시점 별 입력값 \n",
        "for input_t in inputs: \n",
        "\n",
        "  # Wx*Xt + Wh*Ht-1 + b(bias)\n",
        "  output_t = np.tanh(np.dot(Wx,input_t) + np.dot(Wh,hidden_state_t) + b)\n",
        "\n",
        "  # 각 시점 t별 메모리 셀의 출력의 크기는 (timestep t, output_dim)\n",
        "  # 각 시점의 은닉 상태의 값을 계속해서 누적 \n",
        "  total_hidden_states.append(list(output_t))\n",
        "  hidden_state_t = output_t\n",
        "\n",
        "# 출력 시 값을 깔끔하게 해주는 용도.\n",
        "total_hidden_states = np.stack(total_hidden_states, axis = 0) \n",
        "\n",
        "# (timesteps, output_dim)\n",
        "print('모든 시점의 은닉 상태 :')\n",
        "print(total_hidden_states)"
      ],
      "metadata": {
        "colab": {
          "base_uri": "https://localhost:8080/"
        },
        "id": "LZCXmSXre959",
        "outputId": "95a01681-06f9-4601-8029-f3f9628f575d"
      },
      "execution_count": null,
      "outputs": [
        {
          "output_type": "stream",
          "name": "stdout",
          "text": [
            "모든 시점의 은닉 상태 :\n",
            "[[0.82836743 0.95202649 0.95367436 0.47871179 0.89126026 0.87730519\n",
            "  0.95860576 0.91928061]\n",
            " [0.99994883 0.99964111 0.99997993 0.9967665  0.99999365 0.99994822\n",
            "  0.99999248 0.99999002]\n",
            " [0.9999917  0.99995772 0.99999628 0.99893403 0.99999915 0.99998485\n",
            "  0.99999957 0.99999958]\n",
            " [0.9999835  0.99989465 0.99999305 0.99832293 0.99999849 0.99996838\n",
            "  0.99999889 0.99999883]\n",
            " [0.99998083 0.99991747 0.99998832 0.99849403 0.999996   0.99994127\n",
            "  0.99999891 0.9999992 ]\n",
            " [0.99998493 0.99993275 0.99999421 0.99874306 0.99999908 0.99998188\n",
            "  0.99999874 0.99999828]\n",
            " [0.9999918  0.99997585 0.99999628 0.99925198 0.9999993  0.99998989\n",
            "  0.99999954 0.99999945]\n",
            " [0.99998872 0.99997035 0.99999553 0.99923127 0.99999931 0.99999068\n",
            "  0.99999963 0.99999934]\n",
            " [0.99995058 0.99977186 0.99998447 0.99794073 0.99999801 0.99996226\n",
            "  0.99999829 0.99999573]\n",
            " [0.99997866 0.99991955 0.99999067 0.99864564 0.99999828 0.99997077\n",
            "  0.99999844 0.99999798]]\n"
          ]
        }
      ]
    }
  ]
}
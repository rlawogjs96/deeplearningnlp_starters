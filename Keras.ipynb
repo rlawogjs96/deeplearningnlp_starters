{
  "nbformat": 4,
  "nbformat_minor": 0,
  "metadata": {
    "colab": {
      "name": "Keras.ipynb",
      "provenance": [],
      "collapsed_sections": [],
      "include_colab_link": true
    },
    "kernelspec": {
      "name": "python3",
      "display_name": "Python 3"
    },
    "language_info": {
      "name": "python"
    },
    "accelerator": "GPU",
    "gpuClass": "standard"
  },
  "cells": [
    {
      "cell_type": "markdown",
      "metadata": {
        "id": "view-in-github",
        "colab_type": "text"
      },
      "source": [
        "<a href=\"https://colab.research.google.com/github/rlawogjs96/deeplearningnlp_starters/blob/main/Keras.ipynb\" target=\"_parent\"><img src=\"https://colab.research.google.com/assets/colab-badge.svg\" alt=\"Open In Colab\"/></a>"
      ]
    },
    {
      "cell_type": "markdown",
      "source": [
        "# 1. Preprocessing"
      ],
      "metadata": {
        "id": "EZ-ulkwpFSy6"
      }
    },
    {
      "cell_type": "markdown",
      "source": [
        "**1.1 Tokenizer**"
      ],
      "metadata": {
        "id": "pYH8bEq9FZPJ"
      }
    },
    {
      "cell_type": "code",
      "source": [
        "from tensorflow.keras.preprocessing.text import Tokenizer\n",
        "from tensorflow.keras.preprocessing.sequence import pad_sequences\n",
        "\n",
        "tokenizer = Tokenizer() \n",
        "train_text = \"The one who succeeds will prove the stronger\" \n",
        "\n",
        "tokenizer.fit_on_texts([train_text])\n",
        "\n",
        "sub_text = \"The one who succeeds will strive to be the stronger\" \n",
        "sequences = tokenizer.texts_to_sequences([sub_text])[0]\n",
        "\n",
        "print(\"Encoding :\", sequences)\n",
        "print(\"Set of words: \", tokenizer.word_index)"
      ],
      "metadata": {
        "colab": {
          "base_uri": "https://localhost:8080/"
        },
        "id": "pRhe1S9NFWS6",
        "outputId": "20ea0d5e-c63b-43b6-9a4c-6ee397b333e6"
      },
      "execution_count": null,
      "outputs": [
        {
          "output_type": "stream",
          "name": "stdout",
          "text": [
            "Encoding : [1, 2, 3, 4, 5, 1, 7]\n",
            "Set of words:  {'the': 1, 'one': 2, 'who': 3, 'succeeds': 4, 'will': 5, 'prove': 6, 'stronger': 7}\n"
          ]
        }
      ]
    },
    {
      "cell_type": "markdown",
      "source": [
        "'to', 'be', are not printed since it is not in the vocabulary set"
      ],
      "metadata": {
        "id": "ssprPKmCGGU4"
      }
    },
    {
      "cell_type": "markdown",
      "source": [
        "**1.2 pad_sequence()** : use padding in order to make different sample lengths in unison. In order for samples to be inputs for our models, there are cases in which we have to unify the sample lengths. "
      ],
      "metadata": {
        "id": "2XpeSyDLGNQd"
      }
    },
    {
      "cell_type": "code",
      "source": [
        "pad_sequences([[1,2,3],[3,5,7,9],[1,3]], maxlen = 3, padding = 'pre') # pre or post"
      ],
      "metadata": {
        "colab": {
          "base_uri": "https://localhost:8080/"
        },
        "id": "g6D-Ajd_GTiW",
        "outputId": "f388529e-ebbc-475d-d122-9312b6f47800"
      },
      "execution_count": null,
      "outputs": [
        {
          "output_type": "execute_result",
          "data": {
            "text/plain": [
              "array([[1, 2, 3],\n",
              "       [5, 7, 9],\n",
              "       [0, 1, 3]], dtype=int32)"
            ]
          },
          "metadata": {},
          "execution_count": 4
        }
      ]
    },
    {
      "cell_type": "markdown",
      "source": [
        "# 2. Word Embedding"
      ],
      "metadata": {
        "id": "ocNng9vTG5lt"
      }
    },
    {
      "cell_type": "markdown",
      "source": [
        "Create words within the text into dense vectors. The process of transforming words into dense vectors is called **word embedding**.\n",
        "\n",
        "Embedding() takes in a 2D tensor as input. (number_of_samples, input_length)\n",
        "Embedding() returns a 3D tensor as output. (number_of_samples, input_length, embedding_word_dimensionality)"
      ],
      "metadata": {
        "id": "b0C883rcG_Uu"
      }
    },
    {
      "cell_type": "code",
      "source": [
        "# WARNING: This pseudocode is to help us understand the logic of Embedding, not actual running code. \n",
        "from keras.layers import Embedding\n",
        "\n",
        "# 1. Tokenize\n",
        "tokenized_text = [['Hope', 'to', 'see', 'you', 'soon'], ['Nice', 'to', 'see', 'you', 'again']]\n",
        "\n",
        "# 2. Integer Embedding for each word \n",
        "encoded_text = [[0, 1, 2, 3, 4],[5, 1, 2, 3, 6]]\n",
        "\n",
        "# 3. The data from Integer Embedding becomes the input for Embedding Layer. \n",
        "vocab_size = 7\n",
        "embedding_dim = 2\n",
        "Embedding(vocab_size, embedding_dim, input_length=5)"
      ],
      "metadata": {
        "id": "H6tzEUOGIslk"
      },
      "execution_count": null,
      "outputs": []
    },
    {
      "cell_type": "markdown",
      "source": [
        "# 3. Modeling\n",
        "\n"
      ],
      "metadata": {
        "id": "tNcqerWXJIvO"
      }
    },
    {
      "cell_type": "markdown",
      "source": [
        "**3.1 Sequential()**\n",
        "Used by Keras to formulate input layer, hidden layer, output layer. "
      ],
      "metadata": {
        "id": "9z_BFtxZJO1A"
      }
    },
    {
      "cell_type": "code",
      "source": [
        "from tensorflow.keras.models import Sequential\n",
        "from tensorflow.keras.layers import Dense\n",
        "\n",
        "model = Sequential() \n",
        "# model.add(Embedding(vocab_size,output_dim,input_length)) -> add embedding layer \n",
        "# model.add(Dense(1, input_dim = 3, activation = 'relu')) -> add fully-connected layer \n",
        "               # ***DENSE*** \n",
        "               # first factor : number of neurons in output layer\n",
        "               # input_dim : number of neurons in input layer, input dimension\n",
        "               # activation : activation function. (linear, sigmoid, softmax, relu)"
      ],
      "metadata": {
        "id": "f0zhfc1fJOZK"
      },
      "execution_count": null,
      "outputs": []
    },
    {
      "cell_type": "markdown",
      "source": [
        "![neural_network1_final.png](data:image/png;base64,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)"
      ],
      "metadata": {
        "id": "3OcRBMH0K5T9"
      }
    },
    {
      "cell_type": "code",
      "source": [
        "# Additional fully-connected layer\n",
        "model = Sequential() \n",
        "model.add(Dense(8, input_dim=4, activation = 'relu'))\n",
        "model.add(Dense(1, activation = 'sigmoid')) # Output layer"
      ],
      "metadata": {
        "id": "T7LrhlQjJhD8"
      },
      "execution_count": null,
      "outputs": []
    },
    {
      "cell_type": "code",
      "source": [
        "model.summary()"
      ],
      "metadata": {
        "colab": {
          "base_uri": "https://localhost:8080/"
        },
        "id": "glPurWpvK7ua",
        "outputId": "71272287-6f37-45df-b98e-5f666364254d"
      },
      "execution_count": null,
      "outputs": [
        {
          "output_type": "stream",
          "name": "stdout",
          "text": [
            "Model: \"sequential_5\"\n",
            "_________________________________________________________________\n",
            " Layer (type)                Output Shape              Param #   \n",
            "=================================================================\n",
            " dense (Dense)               (None, 8)                 40        \n",
            "                                                                 \n",
            " dense_1 (Dense)             (None, 1)                 9         \n",
            "                                                                 \n",
            "=================================================================\n",
            "Total params: 49\n",
            "Trainable params: 49\n",
            "Non-trainable params: 0\n",
            "_________________________________________________________________\n"
          ]
        }
      ]
    },
    {
      "cell_type": "markdown",
      "source": [
        "# 4. Compile and Training"
      ],
      "metadata": {
        "id": "C7D9PDNqMRLa"
      }
    },
    {
      "cell_type": "markdown",
      "source": [
        "**4.1 compile()**\n",
        "\n",
        "loss function, optimizer, metric function"
      ],
      "metadata": {
        "id": "OUmhm_YLMVEJ"
      }
    },
    {
      "cell_type": "code",
      "source": [
        "from tensorflow.keras.layers import SimpleRNN, Embedding, Dense\n",
        "from tensorflow.keras.models import Sequential \n",
        "\n",
        "vocab_size = 10000\n",
        "embedding_dim = 32\n",
        "hidden_units = 32\n",
        "\n",
        "model = Sequential()\n",
        "model.add(Embedding(vocab_size, embedding_dim)) \n",
        "model.add(SimpleRNN(hidden_units)) \n",
        "model.add(Dense(1, activation = 'sigmoid')) \n",
        "model.compile(optimizer='rmsprop',loss='binary_crossentropy',metrics=['acc'])"
      ],
      "metadata": {
        "id": "HklLIdZrMaaw"
      },
      "execution_count": null,
      "outputs": []
    },
    {
      "cell_type": "markdown",
      "source": [
        "**4.2**\n",
        "\n",
        "**fit()** : Trains the model, main objective is to find the right fitting through training. \n",
        "\n",
        "**X_train()** : training set. \n",
        "\n",
        "**Y_train()** : Label data in Supervised Learning. \n",
        "\n",
        "**epochs** : Total number of trainings. Goes through entire data. \n",
        "\n",
        "**batch_size** : Batch Size. Default value = 32. batch_size = None when mini batch gradient descent is not to be used. \n",
        "\n",
        "**validation_data(x_val,y_val)** : Uses validation data.\n",
        "\n",
        "**validation_split** : Uses partial training data as validation data.\n",
        "\n"
      ],
      "metadata": {
        "id": "clJK4WVBO008"
      }
    },
    {
      "cell_type": "code",
      "source": [
        "# 위의 compile() 코드의 연장선상인 코드\n",
        "model.fit(X_train, y_train, epochs=10, batch_size=32, verbose=0, validation_data(X_val, y_val))\n",
        "model.fit(X_train, y_train, epochs=10,batch_size=32, verbose=0, validation_split=0.2))"
      ],
      "metadata": {
        "id": "2KVlEY5uMgKd"
      },
      "execution_count": null,
      "outputs": []
    },
    {
      "cell_type": "markdown",
      "source": [
        "# 5. Evaluation and Prediction"
      ],
      "metadata": {
        "id": "L8Iyqv_pPjf2"
      }
    },
    {
      "cell_type": "markdown",
      "source": [
        "**5.1** \n",
        "\n",
        "**evaluate() :** \n",
        "Evaluates accuracy using test data.\n",
        "\n",
        "**predict() :**\n",
        "Predicts model's output value based on input."
      ],
      "metadata": {
        "id": "pfq893GKQfeS"
      }
    },
    {
      "cell_type": "code",
      "source": [
        "model.evaluate(X_test, y_test, batch_size = 32)\n",
        "model.predict(X_input,batch_size = 32)"
      ],
      "metadata": {
        "id": "5FHNckyyQ4lT"
      },
      "execution_count": null,
      "outputs": []
    },
    {
      "cell_type": "markdown",
      "source": [
        "# 6. Save and Load\n",
        "\n",
        "**save() :**\n",
        "\n",
        "saves neural network model\n",
        "\n",
        "**load_model() :** \n",
        "loads model"
      ],
      "metadata": {
        "id": "K-Rq03MERIDS"
      }
    },
    {
      "cell_type": "code",
      "source": [
        "model.save(\"model.name.h5\")\n",
        "from tensorflow.keras.models import load model\n",
        "model = load_model(\"model_name.h5\")"
      ],
      "metadata": {
        "id": "P-irY7RYRKRv"
      },
      "execution_count": null,
      "outputs": []
    }
  ]
}